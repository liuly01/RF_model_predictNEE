{
 "cells": [
  {
   "cell_type": "code",
   "execution_count": 1,
   "id": "5a075100-0306-4f37-a566-5df4b6425030",
   "metadata": {},
   "outputs": [
    {
     "data": {
      "text/html": [
       "<p>To authorize access needed by Earth Engine, open the following\n",
       "        URL in a web browser and follow the instructions:</p>\n",
       "        <p><a href=https://code.earthengine.google.com/client-auth?scopes=https%3A//www.googleapis.com/auth/earthengine%20https%3A//www.googleapis.com/auth/devstorage.full_control&request_id=FDnygKEuuYm7Wh8XNYShNoPWnTgM0_1DJANNT_mcKG8&tc=J6nnI0sLiDGYgnUr53xfUSyp4SitlYspJ60k7-cbugs&cc=QEDYYRn7DTPDgX8jDSR9jSUOfHhZCXjRueLMZfBQt5E>https://code.earthengine.google.com/client-auth?scopes=https%3A//www.googleapis.com/auth/earthengine%20https%3A//www.googleapis.com/auth/devstorage.full_control&request_id=FDnygKEuuYm7Wh8XNYShNoPWnTgM0_1DJANNT_mcKG8&tc=J6nnI0sLiDGYgnUr53xfUSyp4SitlYspJ60k7-cbugs&cc=QEDYYRn7DTPDgX8jDSR9jSUOfHhZCXjRueLMZfBQt5E</a></p>\n",
       "        <p>The authorization workflow will generate a code, which you should paste in the box below.</p>\n",
       "        "
      ],
      "text/plain": [
       "<IPython.core.display.HTML object>"
      ]
     },
     "metadata": {},
     "output_type": "display_data"
    },
    {
     "name": "stdin",
     "output_type": "stream",
     "text": [
      "Enter verification code:  4/1Adeu5BVUfQe9uiiKIo4H77S-7LYzA5W-mjsa1LQB0aGnGi612f7f9cEMQoM\n"
     ]
    },
    {
     "name": "stdout",
     "output_type": "stream",
     "text": [
      "\n",
      "Successfully saved authorization token.\n"
     ]
    }
   ],
   "source": [
    "import geemap\n",
    "import ee\n",
    "import os\n",
    "geemap.set_proxy(port = 23457)\n",
    "geemap.ee_initialize()"
   ]
  },
  {
   "cell_type": "code",
   "execution_count": 3,
   "id": "56230b40-d81c-4e32-98bf-a691d86bf209",
   "metadata": {},
   "outputs": [
    {
     "data": {
      "text/plain": [
       "372"
      ]
     },
     "execution_count": 3,
     "metadata": {},
     "output_type": "execute_result"
    }
   ],
   "source": [
    "ERA5 = ee.ImageCollection(\"ECMWF/ERA5_LAND/MONTHLY\").filterDate('1992-01-01', '2023-01-01')\n",
    "def reference(imgs):\n",
    "    \n",
    "    SSR = imgs.select('surface_solar_radiation_downwards')\n",
    "    SSR = SSR.divide(ee.Image(1000000))\n",
    "    img = imgs.addBands(SSR)\n",
    "    \n",
    "    return img\n",
    "ERA5_gt = ERA5.map(reference)\n",
    "ERA5_gt.size().getInfo()"
   ]
  },
  {
   "cell_type": "code",
   "execution_count": 5,
   "id": "329a4478-e7ed-4a7f-bfde-c3f55acf6df9",
   "metadata": {},
   "outputs": [
    {
     "data": {
      "text/plain": [
       "31"
      ]
     },
     "execution_count": 5,
     "metadata": {},
     "output_type": "execute_result"
    }
   ],
   "source": [
    "years = ee.List.sequence(1992, 2022)\n",
    "def ave_T2M(year):\n",
    "\n",
    "    start_date = ee.Date.fromYMD(year, 1, 1)\n",
    "    end_date = start_date.advance(1, \"year\")\n",
    "\n",
    "    dataset = ee.ImageCollection(ERA5_gt).select('surface_solar_radiation_downwards_1').filterDate(start_date, end_date)\n",
    "    \n",
    "    image = dataset.reduce(ee.Reducer.mean())\n",
    "\n",
    "    return image\n",
    "images = years.map(ave_T2M)\n",
    "images.size().getInfo()"
   ]
  },
  {
   "cell_type": "code",
   "execution_count": null,
   "id": "0e47d18f-7999-4274-aaf8-24f0e9bff57a",
   "metadata": {},
   "outputs": [],
   "source": [
    "Map = geemap.Map()\n",
    "in_shp = 'D:/han/NEE_train/globalflux/globalsitesfinal.shp'\n",
    "in_fc = geemap.shp_to_ee(in_shp)\n",
    "Map.addLayer(in_fc, {}, 'globalsites')\n",
    "Map"
   ]
  },
  {
   "cell_type": "code",
   "execution_count": null,
   "id": "7fc4f59a-6363-4e0d-8a71-511919836ba7",
   "metadata": {},
   "outputs": [],
   "source": [
    "for index in range(0, 29):\n",
    "    image = ee.Image(images.get(index))\n",
    "    file_name = \"D:/han/NEE_train/2023.01.23/barrensite/ERA5/\"+ str(1992+index) +\"_aveSSR.csv\"\n",
    "    geemap.extract_values_to_points(in_fc, image, out_fc = file_name, scale=250, crs = 'EPSG:4326')"
   ]
  },
  {
   "cell_type": "code",
   "execution_count": 8,
   "id": "8465076e-1eeb-480f-b2d3-28c86c709afa",
   "metadata": {},
   "outputs": [
    {
     "data": {
      "text/plain": [
       "36"
      ]
     },
     "execution_count": 8,
     "metadata": {},
     "output_type": "execute_result"
    }
   ],
   "source": [
    "# Data chunking download\n",
    "#feature = ee.Geometry.BBox(-180, -90, -30, 60) #west\n",
    "feature = ee.Geometry.BBox(0, -90, 150, 60) #east\n",
    "fishnet = geemap.fishnet(feature, h_interval=30, v_interval=30)\n",
    "fishnet.size().getInfo()"
   ]
  },
  {
   "cell_type": "code",
   "execution_count": 9,
   "id": "4ce6d060-04a8-4458-b1a4-9b041dd8f402",
   "metadata": {},
   "outputs": [
    {
     "name": "stdout",
     "output_type": "stream",
     "text": [
      "Downloading 1/36: E:/predictNEE_VAR/2021/SSR250m\\E2021SSR01.tif\n"
     ]
    },
    {
     "name": "stderr",
     "output_type": "stream",
     "text": [
      "Consider adjusting `region`, `scale` and/or `dtype` to reduce the E2021SSR01.tif download size (raw: 1.43 GB).\n"
     ]
    },
    {
     "data": {
      "application/vnd.jupyter.widget-view+json": {
       "model_id": "c0e207175565488ca0e7fbab45dfd5b5",
       "version_major": 2,
       "version_minor": 0
      },
      "text/plain": [
       "E2021SSR01.tif: |                                                     | 0.00/1.43G (raw) [  0.0%] in 00:00 (et…"
      ]
     },
     "metadata": {},
     "output_type": "display_data"
    },
    {
     "name": "stdout",
     "output_type": "stream",
     "text": [
      "Downloading 2/36: E:/predictNEE_VAR/2021/SSR250m\\E2021SSR02.tif\n"
     ]
    },
    {
     "name": "stderr",
     "output_type": "stream",
     "text": [
      "Consider adjusting `region`, `scale` and/or `dtype` to reduce the E2021SSR02.tif download size (raw: 1.43 GB).\n"
     ]
    },
    {
     "data": {
      "application/vnd.jupyter.widget-view+json": {
       "model_id": "f3041f4ba6d44244a5647081e812f40b",
       "version_major": 2,
       "version_minor": 0
      },
      "text/plain": [
       "E2021SSR02.tif: |                                                     | 0.00/1.43G (raw) [  0.0%] in 00:00 (et…"
      ]
     },
     "metadata": {},
     "output_type": "display_data"
    },
    {
     "name": "stdout",
     "output_type": "stream",
     "text": [
      "Downloading 3/36: E:/predictNEE_VAR/2021/SSR250m\\E2021SSR03.tif\n"
     ]
    },
    {
     "name": "stderr",
     "output_type": "stream",
     "text": [
      "Consider adjusting `region`, `scale` and/or `dtype` to reduce the E2021SSR03.tif download size (raw: 1.43 GB).\n"
     ]
    },
    {
     "data": {
      "application/vnd.jupyter.widget-view+json": {
       "model_id": "59c53d85f5404b5081cbadf1cd69870f",
       "version_major": 2,
       "version_minor": 0
      },
      "text/plain": [
       "E2021SSR03.tif: |                                                     | 0.00/1.43G (raw) [  0.0%] in 00:00 (et…"
      ]
     },
     "metadata": {},
     "output_type": "display_data"
    },
    {
     "name": "stdout",
     "output_type": "stream",
     "text": [
      "Downloading 4/36: E:/predictNEE_VAR/2021/SSR250m\\E2021SSR04.tif\n"
     ]
    },
    {
     "name": "stderr",
     "output_type": "stream",
     "text": [
      "Consider adjusting `region`, `scale` and/or `dtype` to reduce the E2021SSR04.tif download size (raw: 1.43 GB).\n"
     ]
    },
    {
     "data": {
      "application/vnd.jupyter.widget-view+json": {
       "model_id": "cbe0aa8d06d84f629002d960ac4c463a",
       "version_major": 2,
       "version_minor": 0
      },
      "text/plain": [
       "E2021SSR04.tif: |                                                     | 0.00/1.43G (raw) [  0.0%] in 00:00 (et…"
      ]
     },
     "metadata": {},
     "output_type": "display_data"
    },
    {
     "name": "stdout",
     "output_type": "stream",
     "text": [
      "Downloading 5/36: E:/predictNEE_VAR/2021/SSR250m\\E2021SSR05.tif\n"
     ]
    },
    {
     "name": "stderr",
     "output_type": "stream",
     "text": [
      "Consider adjusting `region`, `scale` and/or `dtype` to reduce the E2021SSR05.tif download size (raw: 1.43 GB).\n"
     ]
    },
    {
     "data": {
      "application/vnd.jupyter.widget-view+json": {
       "model_id": "41e9e2a21017488da4b629203a2bf7cc",
       "version_major": 2,
       "version_minor": 0
      },
      "text/plain": [
       "E2021SSR05.tif: |                                                     | 0.00/1.43G (raw) [  0.0%] in 00:00 (et…"
      ]
     },
     "metadata": {},
     "output_type": "display_data"
    },
    {
     "name": "stdout",
     "output_type": "stream",
     "text": [
      "Downloading 6/36: E:/predictNEE_VAR/2021/SSR250m\\E2021SSR06.tif\n"
     ]
    },
    {
     "name": "stderr",
     "output_type": "stream",
     "text": [
      "Consider adjusting `region`, `scale` and/or `dtype` to reduce the E2021SSR06.tif download size (raw: 1.43 GB).\n"
     ]
    },
    {
     "data": {
      "application/vnd.jupyter.widget-view+json": {
       "model_id": "f70e8212a0a74d1ca254bdf811ee9133",
       "version_major": 2,
       "version_minor": 0
      },
      "text/plain": [
       "E2021SSR06.tif: |                                                     | 0.00/1.43G (raw) [  0.0%] in 00:00 (et…"
      ]
     },
     "metadata": {},
     "output_type": "display_data"
    },
    {
     "name": "stdout",
     "output_type": "stream",
     "text": [
      "Downloading 7/36: E:/predictNEE_VAR/2021/SSR250m\\E2021SSR07.tif\n"
     ]
    },
    {
     "name": "stderr",
     "output_type": "stream",
     "text": [
      "Consider adjusting `region`, `scale` and/or `dtype` to reduce the E2021SSR07.tif download size (raw: 1.43 GB).\n"
     ]
    },
    {
     "data": {
      "application/vnd.jupyter.widget-view+json": {
       "model_id": "4228e297f21e442dafd9f74050ad3fcd",
       "version_major": 2,
       "version_minor": 0
      },
      "text/plain": [
       "E2021SSR07.tif: |                                                     | 0.00/1.43G (raw) [  0.0%] in 00:00 (et…"
      ]
     },
     "metadata": {},
     "output_type": "display_data"
    },
    {
     "name": "stdout",
     "output_type": "stream",
     "text": [
      "Downloading 8/36: E:/predictNEE_VAR/2021/SSR250m\\E2021SSR08.tif\n"
     ]
    },
    {
     "name": "stderr",
     "output_type": "stream",
     "text": [
      "Consider adjusting `region`, `scale` and/or `dtype` to reduce the E2021SSR08.tif download size (raw: 1.43 GB).\n"
     ]
    },
    {
     "data": {
      "application/vnd.jupyter.widget-view+json": {
       "model_id": "16552c3609c54701ae6693379173b6a7",
       "version_major": 2,
       "version_minor": 0
      },
      "text/plain": [
       "E2021SSR08.tif: |                                                     | 0.00/1.43G (raw) [  0.0%] in 00:00 (et…"
      ]
     },
     "metadata": {},
     "output_type": "display_data"
    },
    {
     "name": "stdout",
     "output_type": "stream",
     "text": [
      "Downloading 9/36: E:/predictNEE_VAR/2021/SSR250m\\E2021SSR09.tif\n"
     ]
    },
    {
     "name": "stderr",
     "output_type": "stream",
     "text": [
      "Consider adjusting `region`, `scale` and/or `dtype` to reduce the E2021SSR09.tif download size (raw: 1.43 GB).\n"
     ]
    },
    {
     "data": {
      "application/vnd.jupyter.widget-view+json": {
       "model_id": "bafafca008684ea189aea2900b6a530e",
       "version_major": 2,
       "version_minor": 0
      },
      "text/plain": [
       "E2021SSR09.tif: |                                                     | 0.00/1.43G (raw) [  0.0%] in 00:00 (et…"
      ]
     },
     "metadata": {},
     "output_type": "display_data"
    },
    {
     "name": "stdout",
     "output_type": "stream",
     "text": [
      "Downloading 10/36: E:/predictNEE_VAR/2021/SSR250m\\E2021SSR10.tif\n"
     ]
    },
    {
     "name": "stderr",
     "output_type": "stream",
     "text": [
      "Consider adjusting `region`, `scale` and/or `dtype` to reduce the E2021SSR10.tif download size (raw: 1.43 GB).\n"
     ]
    },
    {
     "data": {
      "application/vnd.jupyter.widget-view+json": {
       "model_id": "47df0470e82a48aaaa39a687ff8ce320",
       "version_major": 2,
       "version_minor": 0
      },
      "text/plain": [
       "E2021SSR10.tif: |                                                     | 0.00/1.43G (raw) [  0.0%] in 00:00 (et…"
      ]
     },
     "metadata": {},
     "output_type": "display_data"
    },
    {
     "name": "stdout",
     "output_type": "stream",
     "text": [
      "Downloading 11/36: E:/predictNEE_VAR/2021/SSR250m\\E2021SSR11.tif\n"
     ]
    },
    {
     "name": "stderr",
     "output_type": "stream",
     "text": [
      "Consider adjusting `region`, `scale` and/or `dtype` to reduce the E2021SSR11.tif download size (raw: 1.43 GB).\n"
     ]
    },
    {
     "data": {
      "application/vnd.jupyter.widget-view+json": {
       "model_id": "5e7312b0004f4c1482e6632c3fc581a4",
       "version_major": 2,
       "version_minor": 0
      },
      "text/plain": [
       "E2021SSR11.tif: |                                                     | 0.00/1.43G (raw) [  0.0%] in 00:00 (et…"
      ]
     },
     "metadata": {},
     "output_type": "display_data"
    },
    {
     "name": "stdout",
     "output_type": "stream",
     "text": [
      "Downloading 12/36: E:/predictNEE_VAR/2021/SSR250m\\E2021SSR12.tif\n"
     ]
    },
    {
     "name": "stderr",
     "output_type": "stream",
     "text": [
      "Consider adjusting `region`, `scale` and/or `dtype` to reduce the E2021SSR12.tif download size (raw: 1.43 GB).\n"
     ]
    },
    {
     "data": {
      "application/vnd.jupyter.widget-view+json": {
       "model_id": "e27b01202df9451da14619cba6ef8ab3",
       "version_major": 2,
       "version_minor": 0
      },
      "text/plain": [
       "E2021SSR12.tif: |                                                     | 0.00/1.43G (raw) [  0.0%] in 00:00 (et…"
      ]
     },
     "metadata": {},
     "output_type": "display_data"
    },
    {
     "name": "stdout",
     "output_type": "stream",
     "text": [
      "Downloading 13/36: E:/predictNEE_VAR/2021/SSR250m\\E2021SSR13.tif\n"
     ]
    },
    {
     "name": "stderr",
     "output_type": "stream",
     "text": [
      "Consider adjusting `region`, `scale` and/or `dtype` to reduce the E2021SSR13.tif download size (raw: 1.43 GB).\n"
     ]
    },
    {
     "data": {
      "application/vnd.jupyter.widget-view+json": {
       "model_id": "dbe0f420bcbb478e98810c33b1f963a4",
       "version_major": 2,
       "version_minor": 0
      },
      "text/plain": [
       "E2021SSR13.tif: |                                                     | 0.00/1.43G (raw) [  0.0%] in 00:00 (et…"
      ]
     },
     "metadata": {},
     "output_type": "display_data"
    },
    {
     "name": "stdout",
     "output_type": "stream",
     "text": [
      "Downloading 14/36: E:/predictNEE_VAR/2021/SSR250m\\E2021SSR14.tif\n"
     ]
    },
    {
     "name": "stderr",
     "output_type": "stream",
     "text": [
      "Consider adjusting `region`, `scale` and/or `dtype` to reduce the E2021SSR14.tif download size (raw: 1.43 GB).\n"
     ]
    },
    {
     "data": {
      "application/vnd.jupyter.widget-view+json": {
       "model_id": "1639885fcc8744ba95912f54507eb677",
       "version_major": 2,
       "version_minor": 0
      },
      "text/plain": [
       "E2021SSR14.tif: |                                                     | 0.00/1.43G (raw) [  0.0%] in 00:00 (et…"
      ]
     },
     "metadata": {},
     "output_type": "display_data"
    },
    {
     "name": "stdout",
     "output_type": "stream",
     "text": [
      "Downloading 15/36: E:/predictNEE_VAR/2021/SSR250m\\E2021SSR15.tif\n"
     ]
    },
    {
     "name": "stderr",
     "output_type": "stream",
     "text": [
      "Consider adjusting `region`, `scale` and/or `dtype` to reduce the E2021SSR15.tif download size (raw: 1.43 GB).\n"
     ]
    },
    {
     "data": {
      "application/vnd.jupyter.widget-view+json": {
       "model_id": "9f51c654832846bebedc16c6525791c9",
       "version_major": 2,
       "version_minor": 0
      },
      "text/plain": [
       "E2021SSR15.tif: |                                                     | 0.00/1.43G (raw) [  0.0%] in 00:00 (et…"
      ]
     },
     "metadata": {},
     "output_type": "display_data"
    },
    {
     "name": "stdout",
     "output_type": "stream",
     "text": [
      "Downloading 16/36: E:/predictNEE_VAR/2021/SSR250m\\E2021SSR16.tif\n"
     ]
    },
    {
     "name": "stderr",
     "output_type": "stream",
     "text": [
      "Consider adjusting `region`, `scale` and/or `dtype` to reduce the E2021SSR16.tif download size (raw: 1.43 GB).\n"
     ]
    },
    {
     "data": {
      "application/vnd.jupyter.widget-view+json": {
       "model_id": "7457dadd3b764f469e625fe1c20e823c",
       "version_major": 2,
       "version_minor": 0
      },
      "text/plain": [
       "E2021SSR16.tif: |                                                     | 0.00/1.43G (raw) [  0.0%] in 00:00 (et…"
      ]
     },
     "metadata": {},
     "output_type": "display_data"
    },
    {
     "name": "stdout",
     "output_type": "stream",
     "text": [
      "Downloading 17/36: E:/predictNEE_VAR/2021/SSR250m\\E2021SSR17.tif\n"
     ]
    },
    {
     "name": "stderr",
     "output_type": "stream",
     "text": [
      "Consider adjusting `region`, `scale` and/or `dtype` to reduce the E2021SSR17.tif download size (raw: 1.43 GB).\n"
     ]
    },
    {
     "data": {
      "application/vnd.jupyter.widget-view+json": {
       "model_id": "2a9fd7c74e6240079a28b4c42d016d57",
       "version_major": 2,
       "version_minor": 0
      },
      "text/plain": [
       "E2021SSR17.tif: |                                                     | 0.00/1.43G (raw) [  0.0%] in 00:00 (et…"
      ]
     },
     "metadata": {},
     "output_type": "display_data"
    },
    {
     "name": "stdout",
     "output_type": "stream",
     "text": [
      "Downloading 18/36: E:/predictNEE_VAR/2021/SSR250m\\E2021SSR18.tif\n"
     ]
    },
    {
     "name": "stderr",
     "output_type": "stream",
     "text": [
      "Consider adjusting `region`, `scale` and/or `dtype` to reduce the E2021SSR18.tif download size (raw: 1.43 GB).\n"
     ]
    },
    {
     "data": {
      "application/vnd.jupyter.widget-view+json": {
       "model_id": "b5c2a3a0c7ac4a558cf85c216495c268",
       "version_major": 2,
       "version_minor": 0
      },
      "text/plain": [
       "E2021SSR18.tif: |                                                     | 0.00/1.43G (raw) [  0.0%] in 00:00 (et…"
      ]
     },
     "metadata": {},
     "output_type": "display_data"
    },
    {
     "name": "stdout",
     "output_type": "stream",
     "text": [
      "Downloading 19/36: E:/predictNEE_VAR/2021/SSR250m\\E2021SSR19.tif\n"
     ]
    },
    {
     "name": "stderr",
     "output_type": "stream",
     "text": [
      "Consider adjusting `region`, `scale` and/or `dtype` to reduce the E2021SSR19.tif download size (raw: 1.43 GB).\n"
     ]
    },
    {
     "data": {
      "application/vnd.jupyter.widget-view+json": {
       "model_id": "2f611805de2e450b972097a41a852eb7",
       "version_major": 2,
       "version_minor": 0
      },
      "text/plain": [
       "E2021SSR19.tif: |                                                     | 0.00/1.43G (raw) [  0.0%] in 00:00 (et…"
      ]
     },
     "metadata": {},
     "output_type": "display_data"
    },
    {
     "name": "stdout",
     "output_type": "stream",
     "text": [
      "Downloading 20/36: E:/predictNEE_VAR/2021/SSR250m\\E2021SSR20.tif\n"
     ]
    },
    {
     "name": "stderr",
     "output_type": "stream",
     "text": [
      "Consider adjusting `region`, `scale` and/or `dtype` to reduce the E2021SSR20.tif download size (raw: 1.43 GB).\n"
     ]
    },
    {
     "data": {
      "application/vnd.jupyter.widget-view+json": {
       "model_id": "07d25889983d42ed99eebe4d1efe8860",
       "version_major": 2,
       "version_minor": 0
      },
      "text/plain": [
       "E2021SSR20.tif: |                                                     | 0.00/1.43G (raw) [  0.0%] in 00:00 (et…"
      ]
     },
     "metadata": {},
     "output_type": "display_data"
    },
    {
     "name": "stdout",
     "output_type": "stream",
     "text": [
      "Downloading 21/36: E:/predictNEE_VAR/2021/SSR250m\\E2021SSR21.tif\n"
     ]
    },
    {
     "name": "stderr",
     "output_type": "stream",
     "text": [
      "Consider adjusting `region`, `scale` and/or `dtype` to reduce the E2021SSR21.tif download size (raw: 1.43 GB).\n"
     ]
    },
    {
     "data": {
      "application/vnd.jupyter.widget-view+json": {
       "model_id": "4c9de6cbfb5d42cb84a27b612a5c916d",
       "version_major": 2,
       "version_minor": 0
      },
      "text/plain": [
       "E2021SSR21.tif: |                                                     | 0.00/1.43G (raw) [  0.0%] in 00:00 (et…"
      ]
     },
     "metadata": {},
     "output_type": "display_data"
    },
    {
     "name": "stdout",
     "output_type": "stream",
     "text": [
      "Downloading 22/36: E:/predictNEE_VAR/2021/SSR250m\\E2021SSR22.tif\n"
     ]
    },
    {
     "name": "stderr",
     "output_type": "stream",
     "text": [
      "Consider adjusting `region`, `scale` and/or `dtype` to reduce the E2021SSR22.tif download size (raw: 1.43 GB).\n"
     ]
    },
    {
     "data": {
      "application/vnd.jupyter.widget-view+json": {
       "model_id": "16e1a808880d46749703663de4789bc8",
       "version_major": 2,
       "version_minor": 0
      },
      "text/plain": [
       "E2021SSR22.tif: |                                                     | 0.00/1.43G (raw) [  0.0%] in 00:00 (et…"
      ]
     },
     "metadata": {},
     "output_type": "display_data"
    },
    {
     "name": "stdout",
     "output_type": "stream",
     "text": [
      "Downloading 23/36: E:/predictNEE_VAR/2021/SSR250m\\E2021SSR23.tif\n"
     ]
    },
    {
     "name": "stderr",
     "output_type": "stream",
     "text": [
      "Consider adjusting `region`, `scale` and/or `dtype` to reduce the E2021SSR23.tif download size (raw: 1.43 GB).\n"
     ]
    },
    {
     "data": {
      "application/vnd.jupyter.widget-view+json": {
       "model_id": "82f0a3a5040f4e7ab2ebbc35cb0bdcf2",
       "version_major": 2,
       "version_minor": 0
      },
      "text/plain": [
       "E2021SSR23.tif: |                                                     | 0.00/1.43G (raw) [  0.0%] in 00:00 (et…"
      ]
     },
     "metadata": {},
     "output_type": "display_data"
    },
    {
     "name": "stdout",
     "output_type": "stream",
     "text": [
      "Downloading 24/36: E:/predictNEE_VAR/2021/SSR250m\\E2021SSR24.tif\n"
     ]
    },
    {
     "name": "stderr",
     "output_type": "stream",
     "text": [
      "Consider adjusting `region`, `scale` and/or `dtype` to reduce the E2021SSR24.tif download size (raw: 1.43 GB).\n"
     ]
    },
    {
     "data": {
      "application/vnd.jupyter.widget-view+json": {
       "model_id": "95827cc6f1ae43c39d6a99ac01141cdd",
       "version_major": 2,
       "version_minor": 0
      },
      "text/plain": [
       "E2021SSR24.tif: |                                                     | 0.00/1.43G (raw) [  0.0%] in 00:00 (et…"
      ]
     },
     "metadata": {},
     "output_type": "display_data"
    },
    {
     "name": "stdout",
     "output_type": "stream",
     "text": [
      "Downloading 25/36: E:/predictNEE_VAR/2021/SSR250m\\E2021SSR25.tif\n"
     ]
    },
    {
     "name": "stderr",
     "output_type": "stream",
     "text": [
      "Consider adjusting `region`, `scale` and/or `dtype` to reduce the E2021SSR25.tif download size (raw: 1.43 GB).\n"
     ]
    },
    {
     "data": {
      "application/vnd.jupyter.widget-view+json": {
       "model_id": "7cd750766b3f4f7ea757b0f763a89091",
       "version_major": 2,
       "version_minor": 0
      },
      "text/plain": [
       "E2021SSR25.tif: |                                                     | 0.00/1.43G (raw) [  0.0%] in 00:00 (et…"
      ]
     },
     "metadata": {},
     "output_type": "display_data"
    },
    {
     "name": "stdout",
     "output_type": "stream",
     "text": [
      "Downloading 26/36: E:/predictNEE_VAR/2021/SSR250m\\E2021SSR26.tif\n"
     ]
    },
    {
     "name": "stderr",
     "output_type": "stream",
     "text": [
      "Consider adjusting `region`, `scale` and/or `dtype` to reduce the E2021SSR26.tif download size (raw: 1.43 GB).\n"
     ]
    },
    {
     "data": {
      "application/vnd.jupyter.widget-view+json": {
       "model_id": "0815e0a79cdc4e4aa9deda9657409612",
       "version_major": 2,
       "version_minor": 0
      },
      "text/plain": [
       "E2021SSR26.tif: |                                                     | 0.00/1.43G (raw) [  0.0%] in 00:00 (et…"
      ]
     },
     "metadata": {},
     "output_type": "display_data"
    },
    {
     "name": "stdout",
     "output_type": "stream",
     "text": [
      "Downloading 27/36: E:/predictNEE_VAR/2021/SSR250m\\E2021SSR27.tif\n"
     ]
    },
    {
     "name": "stderr",
     "output_type": "stream",
     "text": [
      "Consider adjusting `region`, `scale` and/or `dtype` to reduce the E2021SSR27.tif download size (raw: 1.43 GB).\n"
     ]
    },
    {
     "data": {
      "application/vnd.jupyter.widget-view+json": {
       "model_id": "c620b8991aa447418c4980cac601e2ae",
       "version_major": 2,
       "version_minor": 0
      },
      "text/plain": [
       "E2021SSR27.tif: |                                                     | 0.00/1.43G (raw) [  0.0%] in 00:00 (et…"
      ]
     },
     "metadata": {},
     "output_type": "display_data"
    },
    {
     "name": "stdout",
     "output_type": "stream",
     "text": [
      "Downloading 28/36: E:/predictNEE_VAR/2021/SSR250m\\E2021SSR28.tif\n"
     ]
    },
    {
     "name": "stderr",
     "output_type": "stream",
     "text": [
      "Consider adjusting `region`, `scale` and/or `dtype` to reduce the E2021SSR28.tif download size (raw: 1.43 GB).\n"
     ]
    },
    {
     "data": {
      "application/vnd.jupyter.widget-view+json": {
       "model_id": "85f702b431d9423cb7a18fd5b475ba58",
       "version_major": 2,
       "version_minor": 0
      },
      "text/plain": [
       "E2021SSR28.tif: |                                                     | 0.00/1.43G (raw) [  0.0%] in 00:00 (et…"
      ]
     },
     "metadata": {},
     "output_type": "display_data"
    },
    {
     "name": "stdout",
     "output_type": "stream",
     "text": [
      "Downloading 29/36: E:/predictNEE_VAR/2021/SSR250m\\E2021SSR29.tif\n"
     ]
    },
    {
     "name": "stderr",
     "output_type": "stream",
     "text": [
      "Consider adjusting `region`, `scale` and/or `dtype` to reduce the E2021SSR29.tif download size (raw: 1.43 GB).\n"
     ]
    },
    {
     "data": {
      "application/vnd.jupyter.widget-view+json": {
       "model_id": "1445ee772b534a579c4c0082f2cb7854",
       "version_major": 2,
       "version_minor": 0
      },
      "text/plain": [
       "E2021SSR29.tif: |                                                     | 0.00/1.43G (raw) [  0.0%] in 00:00 (et…"
      ]
     },
     "metadata": {},
     "output_type": "display_data"
    },
    {
     "name": "stdout",
     "output_type": "stream",
     "text": [
      "Downloading 30/36: E:/predictNEE_VAR/2021/SSR250m\\E2021SSR30.tif\n"
     ]
    },
    {
     "name": "stderr",
     "output_type": "stream",
     "text": [
      "Consider adjusting `region`, `scale` and/or `dtype` to reduce the E2021SSR30.tif download size (raw: 1.43 GB).\n"
     ]
    },
    {
     "data": {
      "application/vnd.jupyter.widget-view+json": {
       "model_id": "de328c5e12ef4e3bada5638eec760470",
       "version_major": 2,
       "version_minor": 0
      },
      "text/plain": [
       "E2021SSR30.tif: |                                                     | 0.00/1.43G (raw) [  0.0%] in 00:00 (et…"
      ]
     },
     "metadata": {},
     "output_type": "display_data"
    },
    {
     "name": "stdout",
     "output_type": "stream",
     "text": [
      "Downloading 31/36: E:/predictNEE_VAR/2021/SSR250m\\E2021SSR31.tif\n"
     ]
    },
    {
     "name": "stderr",
     "output_type": "stream",
     "text": [
      "Consider adjusting `region`, `scale` and/or `dtype` to reduce the E2021SSR31.tif download size (raw: 1.43 GB).\n"
     ]
    },
    {
     "data": {
      "application/vnd.jupyter.widget-view+json": {
       "model_id": "6126c55ab97e4d52860cacda15479f6e",
       "version_major": 2,
       "version_minor": 0
      },
      "text/plain": [
       "E2021SSR31.tif: |                                                     | 0.00/1.43G (raw) [  0.0%] in 00:00 (et…"
      ]
     },
     "metadata": {},
     "output_type": "display_data"
    },
    {
     "name": "stdout",
     "output_type": "stream",
     "text": [
      "Downloading 32/36: E:/predictNEE_VAR/2021/SSR250m\\E2021SSR32.tif\n"
     ]
    },
    {
     "name": "stderr",
     "output_type": "stream",
     "text": [
      "Consider adjusting `region`, `scale` and/or `dtype` to reduce the E2021SSR32.tif download size (raw: 1.43 GB).\n"
     ]
    },
    {
     "data": {
      "application/vnd.jupyter.widget-view+json": {
       "model_id": "abc56017174a4eb78814fc1bf241c625",
       "version_major": 2,
       "version_minor": 0
      },
      "text/plain": [
       "E2021SSR32.tif: |                                                     | 0.00/1.43G (raw) [  0.0%] in 00:00 (et…"
      ]
     },
     "metadata": {},
     "output_type": "display_data"
    },
    {
     "name": "stdout",
     "output_type": "stream",
     "text": [
      "Downloading 33/36: E:/predictNEE_VAR/2021/SSR250m\\E2021SSR33.tif\n"
     ]
    },
    {
     "name": "stderr",
     "output_type": "stream",
     "text": [
      "Consider adjusting `region`, `scale` and/or `dtype` to reduce the E2021SSR33.tif download size (raw: 1.43 GB).\n"
     ]
    },
    {
     "data": {
      "application/vnd.jupyter.widget-view+json": {
       "model_id": "4e91c189fc2d40098cebfaa71b27d498",
       "version_major": 2,
       "version_minor": 0
      },
      "text/plain": [
       "E2021SSR33.tif: |                                                     | 0.00/1.43G (raw) [  0.0%] in 00:00 (et…"
      ]
     },
     "metadata": {},
     "output_type": "display_data"
    },
    {
     "name": "stdout",
     "output_type": "stream",
     "text": [
      "Downloading 34/36: E:/predictNEE_VAR/2021/SSR250m\\E2021SSR34.tif\n"
     ]
    },
    {
     "name": "stderr",
     "output_type": "stream",
     "text": [
      "Consider adjusting `region`, `scale` and/or `dtype` to reduce the E2021SSR34.tif download size (raw: 1.43 GB).\n"
     ]
    },
    {
     "data": {
      "application/vnd.jupyter.widget-view+json": {
       "model_id": "e041bc002bef47ae868dedeb63abd678",
       "version_major": 2,
       "version_minor": 0
      },
      "text/plain": [
       "E2021SSR34.tif: |                                                     | 0.00/1.43G (raw) [  0.0%] in 00:00 (et…"
      ]
     },
     "metadata": {},
     "output_type": "display_data"
    },
    {
     "name": "stdout",
     "output_type": "stream",
     "text": [
      "Downloading 35/36: E:/predictNEE_VAR/2021/SSR250m\\E2021SSR35.tif\n"
     ]
    },
    {
     "name": "stderr",
     "output_type": "stream",
     "text": [
      "Consider adjusting `region`, `scale` and/or `dtype` to reduce the E2021SSR35.tif download size (raw: 1.43 GB).\n"
     ]
    },
    {
     "data": {
      "application/vnd.jupyter.widget-view+json": {
       "model_id": "50c28fefa1ec4ef28be53aea43972f7b",
       "version_major": 2,
       "version_minor": 0
      },
      "text/plain": [
       "E2021SSR35.tif: |                                                     | 0.00/1.43G (raw) [  0.0%] in 00:00 (et…"
      ]
     },
     "metadata": {},
     "output_type": "display_data"
    },
    {
     "name": "stdout",
     "output_type": "stream",
     "text": [
      "Downloading 36/36: E:/predictNEE_VAR/2021/SSR250m\\E2021SSR36.tif\n"
     ]
    },
    {
     "name": "stderr",
     "output_type": "stream",
     "text": [
      "Consider adjusting `region`, `scale` and/or `dtype` to reduce the E2021SSR36.tif download size (raw: 1.43 GB).\n"
     ]
    },
    {
     "data": {
      "application/vnd.jupyter.widget-view+json": {
       "model_id": "72cfe1c1f66a4416b15608635b3f1afd",
       "version_major": 2,
       "version_minor": 0
      },
      "text/plain": [
       "E2021SSR36.tif: |                                                     | 0.00/1.43G (raw) [  0.0%] in 00:00 (et…"
      ]
     },
     "metadata": {},
     "output_type": "display_data"
    }
   ],
   "source": [
    "image = ee.Image(images.get(29)) #2021\n",
    "dir_name = \"E:/predictNEE_VAR/2021/SSR250m\"\n",
    "geemap.download_ee_image_tiles(image, fishnet, dir_name, prefix=\"E2021SSR\", crs='EPSG:4326', scale=250)"
   ]
  },
  {
   "cell_type": "code",
   "execution_count": null,
   "id": "d77b8d7e-d994-4e6f-b7e4-7573f0adc9e8",
   "metadata": {},
   "outputs": [],
   "source": []
  },
  {
   "cell_type": "code",
   "execution_count": null,
   "id": "2820686a-2523-45a7-b324-24fcda3fe0fd",
   "metadata": {},
   "outputs": [],
   "source": []
  }
 ],
 "metadata": {
  "kernelspec": {
   "display_name": "Python 3 (ipykernel)",
   "language": "python",
   "name": "python3"
  },
  "language_info": {
   "codemirror_mode": {
    "name": "ipython",
    "version": 3
   },
   "file_extension": ".py",
   "mimetype": "text/x-python",
   "name": "python",
   "nbconvert_exporter": "python",
   "pygments_lexer": "ipython3",
   "version": "3.9.12"
  }
 },
 "nbformat": 4,
 "nbformat_minor": 5
}
