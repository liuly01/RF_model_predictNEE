{
 "cells": [
  {
   "cell_type": "code",
   "execution_count": 2,
   "id": "d36a258e-40e8-4d61-bf4c-d9631d28a752",
   "metadata": {},
   "outputs": [],
   "source": [
    "import geemap\n",
    "import ee\n",
    "import os\n",
    "geemap.set_proxy(port = 23457)"
   ]
  },
  {
   "cell_type": "code",
   "execution_count": 3,
   "id": "5ce0af56-d2ec-4f2c-9981-c1cf2d39f30b",
   "metadata": {},
   "outputs": [],
   "source": [
    "geemap.ee_initialize()"
   ]
  },
  {
   "cell_type": "code",
   "execution_count": 4,
   "id": "b57dbb26-af03-4153-9e00-ab3ef841e690",
   "metadata": {},
   "outputs": [
    {
     "data": {
      "text/plain": [
       "372"
      ]
     },
     "execution_count": 4,
     "metadata": {},
     "output_type": "execute_result"
    }
   ],
   "source": [
    "ERA5 = ee.ImageCollection(\"ECMWF/ERA5_LAND/MONTHLY\").filterDate('1992-01-01', '2023-01-01')\n",
    "def reference(imgs):\n",
    "    \n",
    "    T2M = imgs.select('temperature_2m')\n",
    "    T2M = T2M.subtract(ee.Image(273.15))\n",
    "    img = imgs.addBands(T2M)\n",
    "    \n",
    "    return img\n",
    "ERA5_gt = ERA5.map(reference)\n",
    "ERA5_gt.size().getInfo()"
   ]
  },
  {
   "cell_type": "code",
   "execution_count": 5,
   "id": "cc82c9b3-6509-47f4-8ce4-dc542d80020a",
   "metadata": {},
   "outputs": [
    {
     "data": {
      "text/plain": [
       "31"
      ]
     },
     "execution_count": 5,
     "metadata": {},
     "output_type": "execute_result"
    }
   ],
   "source": [
    "years = ee.List.sequence(1992, 2022)\n",
    "def ave_T2M(year):\n",
    "\n",
    "    start_date = ee.Date.fromYMD(year, 1, 1)\n",
    "    end_date = start_date.advance(1, \"year\")\n",
    "\n",
    "    dataset = ee.ImageCollection(ERA5_gt).select('temperature_2m_1').filterDate(start_date, end_date)\n",
    "    \n",
    "    image = dataset.reduce(ee.Reducer.mean())\n",
    "\n",
    "    return image\n",
    "images = years.map(ave_T2M)\n",
    "images.size().getInfo()"
   ]
  },
  {
   "cell_type": "code",
   "execution_count": null,
   "id": "4a81d6cd-3565-401a-b49a-9e048b308eeb",
   "metadata": {},
   "outputs": [],
   "source": [
    "# Site-level data extraction\n",
    "in_shp = 'D:/han/NEE_train/globalflux/globalsitesfinal.shp'\n",
    "in_fc = geemap.shp_to_ee(in_shp)\n",
    "Map.addLayer(in_fc, {}, 'globalsites')\n",
    "Map"
   ]
  },
  {
   "cell_type": "code",
   "execution_count": null,
   "id": "9b5f7c2c-e21c-44a5-a943-f17f3d69d70b",
   "metadata": {},
   "outputs": [],
   "source": [
    "for index in range(0, 29):\n",
    "    image = ee.Image(images.get(index))\n",
    "    file_name = \"D:/han/NEE_train/2023.01.23/barrensite/ERA5/\"+ str(1992+index) +\"_aveT2M.csv\"\n",
    "    geemap.extract_values_to_points(in_fc, image, out_fc = file_name, scale=250, crs = 'EPSG:4326')"
   ]
  },
  {
   "cell_type": "code",
   "execution_count": 8,
   "id": "3f3108b7-7893-49e5-bd3d-3338e7a36e89",
   "metadata": {},
   "outputs": [
    {
     "data": {
      "text/plain": [
       "36"
      ]
     },
     "execution_count": 8,
     "metadata": {},
     "output_type": "execute_result"
    }
   ],
   "source": [
    "# Data chunking download\n",
    "feature = ee.Geometry.BBox(-180, -90, -30, 60) #west\n",
    "#feature = ee.Geometry.BBox(0, -90, 150, 60) #east\n",
    "fishnet = geemap.fishnet(feature, h_interval=30, v_interval=30)\n",
    "fishnet.size().getInfo()"
   ]
  },
  {
   "cell_type": "code",
   "execution_count": 9,
   "id": "a5396f7a-27f6-404c-a641-be436f7e51a3",
   "metadata": {},
   "outputs": [
    {
     "name": "stdout",
     "output_type": "stream",
     "text": [
      "Downloading 1/36: E:/predictNEE_VAR/2021/T2M250m\\W2021T2M01.tif\n"
     ]
    },
    {
     "name": "stderr",
     "output_type": "stream",
     "text": [
      "Consider adjusting `region`, `scale` and/or `dtype` to reduce the W2021T2M01.tif download size (raw: 1.43 GB).\n"
     ]
    },
    {
     "data": {
      "application/vnd.jupyter.widget-view+json": {
       "model_id": "5ca476e3d0ee49c38bac1a0254085e94",
       "version_major": 2,
       "version_minor": 0
      },
      "text/plain": [
       "W2021T2M01.tif: |                                                     | 0.00/1.43G (raw) [  0.0%] in 00:00 (et…"
      ]
     },
     "metadata": {},
     "output_type": "display_data"
    },
    {
     "name": "stdout",
     "output_type": "stream",
     "text": [
      "Downloading 2/36: E:/predictNEE_VAR/2021/T2M250m\\W2021T2M02.tif\n"
     ]
    },
    {
     "name": "stderr",
     "output_type": "stream",
     "text": [
      "Consider adjusting `region`, `scale` and/or `dtype` to reduce the W2021T2M02.tif download size (raw: 1.43 GB).\n"
     ]
    },
    {
     "data": {
      "application/vnd.jupyter.widget-view+json": {
       "model_id": "ae13329b6c9e49f388acb11fceb6d35a",
       "version_major": 2,
       "version_minor": 0
      },
      "text/plain": [
       "W2021T2M02.tif: |                                                     | 0.00/1.43G (raw) [  0.0%] in 00:00 (et…"
      ]
     },
     "metadata": {},
     "output_type": "display_data"
    },
    {
     "name": "stdout",
     "output_type": "stream",
     "text": [
      "Downloading 3/36: E:/predictNEE_VAR/2021/T2M250m\\W2021T2M03.tif\n"
     ]
    },
    {
     "name": "stderr",
     "output_type": "stream",
     "text": [
      "Consider adjusting `region`, `scale` and/or `dtype` to reduce the W2021T2M03.tif download size (raw: 1.43 GB).\n"
     ]
    },
    {
     "data": {
      "application/vnd.jupyter.widget-view+json": {
       "model_id": "e72705a2452944789cdee88c84a3d363",
       "version_major": 2,
       "version_minor": 0
      },
      "text/plain": [
       "W2021T2M03.tif: |                                                     | 0.00/1.43G (raw) [  0.0%] in 00:00 (et…"
      ]
     },
     "metadata": {},
     "output_type": "display_data"
    },
    {
     "name": "stdout",
     "output_type": "stream",
     "text": [
      "Downloading 4/36: E:/predictNEE_VAR/2021/T2M250m\\W2021T2M04.tif\n"
     ]
    },
    {
     "name": "stderr",
     "output_type": "stream",
     "text": [
      "Consider adjusting `region`, `scale` and/or `dtype` to reduce the W2021T2M04.tif download size (raw: 1.43 GB).\n"
     ]
    },
    {
     "data": {
      "application/vnd.jupyter.widget-view+json": {
       "model_id": "7ebc1da8c47345a3836a3da16c00f8ac",
       "version_major": 2,
       "version_minor": 0
      },
      "text/plain": [
       "W2021T2M04.tif: |                                                     | 0.00/1.43G (raw) [  0.0%] in 00:00 (et…"
      ]
     },
     "metadata": {},
     "output_type": "display_data"
    },
    {
     "name": "stdout",
     "output_type": "stream",
     "text": [
      "Downloading 5/36: E:/predictNEE_VAR/2021/T2M250m\\W2021T2M05.tif\n"
     ]
    },
    {
     "name": "stderr",
     "output_type": "stream",
     "text": [
      "Consider adjusting `region`, `scale` and/or `dtype` to reduce the W2021T2M05.tif download size (raw: 1.43 GB).\n"
     ]
    },
    {
     "data": {
      "application/vnd.jupyter.widget-view+json": {
       "model_id": "b1d271f2d2e34a78a2d8b2bc29b299a2",
       "version_major": 2,
       "version_minor": 0
      },
      "text/plain": [
       "W2021T2M05.tif: |                                                     | 0.00/1.43G (raw) [  0.0%] in 00:00 (et…"
      ]
     },
     "metadata": {},
     "output_type": "display_data"
    },
    {
     "name": "stdout",
     "output_type": "stream",
     "text": [
      "Downloading 6/36: E:/predictNEE_VAR/2021/T2M250m\\W2021T2M06.tif\n"
     ]
    },
    {
     "name": "stderr",
     "output_type": "stream",
     "text": [
      "Consider adjusting `region`, `scale` and/or `dtype` to reduce the W2021T2M06.tif download size (raw: 1.43 GB).\n"
     ]
    },
    {
     "data": {
      "application/vnd.jupyter.widget-view+json": {
       "model_id": "004cba61d6ef447a93c67f212b26f11c",
       "version_major": 2,
       "version_minor": 0
      },
      "text/plain": [
       "W2021T2M06.tif: |                                                     | 0.00/1.43G (raw) [  0.0%] in 00:00 (et…"
      ]
     },
     "metadata": {},
     "output_type": "display_data"
    },
    {
     "name": "stdout",
     "output_type": "stream",
     "text": [
      "Downloading 7/36: E:/predictNEE_VAR/2021/T2M250m\\W2021T2M07.tif\n"
     ]
    },
    {
     "name": "stderr",
     "output_type": "stream",
     "text": [
      "Consider adjusting `region`, `scale` and/or `dtype` to reduce the W2021T2M07.tif download size (raw: 1.43 GB).\n"
     ]
    },
    {
     "data": {
      "application/vnd.jupyter.widget-view+json": {
       "model_id": "1e804f9ecc4b473ab1a74d67f18c7f30",
       "version_major": 2,
       "version_minor": 0
      },
      "text/plain": [
       "W2021T2M07.tif: |                                                     | 0.00/1.43G (raw) [  0.0%] in 00:00 (et…"
      ]
     },
     "metadata": {},
     "output_type": "display_data"
    },
    {
     "name": "stdout",
     "output_type": "stream",
     "text": [
      "Downloading 8/36: E:/predictNEE_VAR/2021/T2M250m\\W2021T2M08.tif\n"
     ]
    },
    {
     "name": "stderr",
     "output_type": "stream",
     "text": [
      "Consider adjusting `region`, `scale` and/or `dtype` to reduce the W2021T2M08.tif download size (raw: 1.43 GB).\n"
     ]
    },
    {
     "data": {
      "application/vnd.jupyter.widget-view+json": {
       "model_id": "a6b660d134ed4f9ea6e59022d8fa399b",
       "version_major": 2,
       "version_minor": 0
      },
      "text/plain": [
       "W2021T2M08.tif: |                                                     | 0.00/1.43G (raw) [  0.0%] in 00:00 (et…"
      ]
     },
     "metadata": {},
     "output_type": "display_data"
    },
    {
     "name": "stdout",
     "output_type": "stream",
     "text": [
      "Downloading 9/36: E:/predictNEE_VAR/2021/T2M250m\\W2021T2M09.tif\n"
     ]
    },
    {
     "name": "stderr",
     "output_type": "stream",
     "text": [
      "Consider adjusting `region`, `scale` and/or `dtype` to reduce the W2021T2M09.tif download size (raw: 1.43 GB).\n"
     ]
    },
    {
     "data": {
      "application/vnd.jupyter.widget-view+json": {
       "model_id": "87f8d77531e04294aa6276d69666bb65",
       "version_major": 2,
       "version_minor": 0
      },
      "text/plain": [
       "W2021T2M09.tif: |                                                     | 0.00/1.43G (raw) [  0.0%] in 00:00 (et…"
      ]
     },
     "metadata": {},
     "output_type": "display_data"
    },
    {
     "name": "stdout",
     "output_type": "stream",
     "text": [
      "Downloading 10/36: E:/predictNEE_VAR/2021/T2M250m\\W2021T2M10.tif\n"
     ]
    },
    {
     "name": "stderr",
     "output_type": "stream",
     "text": [
      "Consider adjusting `region`, `scale` and/or `dtype` to reduce the W2021T2M10.tif download size (raw: 1.43 GB).\n"
     ]
    },
    {
     "data": {
      "application/vnd.jupyter.widget-view+json": {
       "model_id": "aab58829ed5b4efbbd0c751af5ee5b7d",
       "version_major": 2,
       "version_minor": 0
      },
      "text/plain": [
       "W2021T2M10.tif: |                                                     | 0.00/1.43G (raw) [  0.0%] in 00:00 (et…"
      ]
     },
     "metadata": {},
     "output_type": "display_data"
    },
    {
     "name": "stdout",
     "output_type": "stream",
     "text": [
      "Downloading 11/36: E:/predictNEE_VAR/2021/T2M250m\\W2021T2M11.tif\n"
     ]
    },
    {
     "name": "stderr",
     "output_type": "stream",
     "text": [
      "Consider adjusting `region`, `scale` and/or `dtype` to reduce the W2021T2M11.tif download size (raw: 1.43 GB).\n"
     ]
    },
    {
     "data": {
      "application/vnd.jupyter.widget-view+json": {
       "model_id": "62e02e36145d41e89b2a66a2205e1119",
       "version_major": 2,
       "version_minor": 0
      },
      "text/plain": [
       "W2021T2M11.tif: |                                                     | 0.00/1.43G (raw) [  0.0%] in 00:00 (et…"
      ]
     },
     "metadata": {},
     "output_type": "display_data"
    },
    {
     "name": "stdout",
     "output_type": "stream",
     "text": [
      "Downloading 12/36: E:/predictNEE_VAR/2021/T2M250m\\W2021T2M12.tif\n"
     ]
    },
    {
     "name": "stderr",
     "output_type": "stream",
     "text": [
      "Consider adjusting `region`, `scale` and/or `dtype` to reduce the W2021T2M12.tif download size (raw: 1.43 GB).\n"
     ]
    },
    {
     "data": {
      "application/vnd.jupyter.widget-view+json": {
       "model_id": "840caeb7aa5e4652a5aaa1b0230e4dc7",
       "version_major": 2,
       "version_minor": 0
      },
      "text/plain": [
       "W2021T2M12.tif: |                                                     | 0.00/1.43G (raw) [  0.0%] in 00:00 (et…"
      ]
     },
     "metadata": {},
     "output_type": "display_data"
    },
    {
     "name": "stdout",
     "output_type": "stream",
     "text": [
      "Downloading 13/36: E:/predictNEE_VAR/2021/T2M250m\\W2021T2M13.tif\n"
     ]
    },
    {
     "name": "stderr",
     "output_type": "stream",
     "text": [
      "Consider adjusting `region`, `scale` and/or `dtype` to reduce the W2021T2M13.tif download size (raw: 1.43 GB).\n"
     ]
    },
    {
     "data": {
      "application/vnd.jupyter.widget-view+json": {
       "model_id": "7cdb278df6d549cf9c95e81d228be5f3",
       "version_major": 2,
       "version_minor": 0
      },
      "text/plain": [
       "W2021T2M13.tif: |                                                     | 0.00/1.43G (raw) [  0.0%] in 00:00 (et…"
      ]
     },
     "metadata": {},
     "output_type": "display_data"
    },
    {
     "name": "stdout",
     "output_type": "stream",
     "text": [
      "Downloading 14/36: E:/predictNEE_VAR/2021/T2M250m\\W2021T2M14.tif\n"
     ]
    },
    {
     "name": "stderr",
     "output_type": "stream",
     "text": [
      "Consider adjusting `region`, `scale` and/or `dtype` to reduce the W2021T2M14.tif download size (raw: 1.43 GB).\n"
     ]
    },
    {
     "data": {
      "application/vnd.jupyter.widget-view+json": {
       "model_id": "96d46648c1c6471698eec74c0aa558d7",
       "version_major": 2,
       "version_minor": 0
      },
      "text/plain": [
       "W2021T2M14.tif: |                                                     | 0.00/1.43G (raw) [  0.0%] in 00:00 (et…"
      ]
     },
     "metadata": {},
     "output_type": "display_data"
    },
    {
     "name": "stdout",
     "output_type": "stream",
     "text": [
      "Downloading 15/36: E:/predictNEE_VAR/2021/T2M250m\\W2021T2M15.tif\n"
     ]
    },
    {
     "name": "stderr",
     "output_type": "stream",
     "text": [
      "Consider adjusting `region`, `scale` and/or `dtype` to reduce the W2021T2M15.tif download size (raw: 1.43 GB).\n"
     ]
    },
    {
     "data": {
      "application/vnd.jupyter.widget-view+json": {
       "model_id": "dfbb88ea9a7f4a7bb3cc293089d02fb8",
       "version_major": 2,
       "version_minor": 0
      },
      "text/plain": [
       "W2021T2M15.tif: |                                                     | 0.00/1.43G (raw) [  0.0%] in 00:00 (et…"
      ]
     },
     "metadata": {},
     "output_type": "display_data"
    },
    {
     "name": "stdout",
     "output_type": "stream",
     "text": [
      "Downloading 16/36: E:/predictNEE_VAR/2021/T2M250m\\W2021T2M16.tif\n"
     ]
    },
    {
     "name": "stderr",
     "output_type": "stream",
     "text": [
      "Consider adjusting `region`, `scale` and/or `dtype` to reduce the W2021T2M16.tif download size (raw: 1.43 GB).\n"
     ]
    },
    {
     "data": {
      "application/vnd.jupyter.widget-view+json": {
       "model_id": "a182ef726b244fabbb4b02b2d290e0ac",
       "version_major": 2,
       "version_minor": 0
      },
      "text/plain": [
       "W2021T2M16.tif: |                                                     | 0.00/1.43G (raw) [  0.0%] in 00:00 (et…"
      ]
     },
     "metadata": {},
     "output_type": "display_data"
    },
    {
     "name": "stdout",
     "output_type": "stream",
     "text": [
      "Downloading 17/36: E:/predictNEE_VAR/2021/T2M250m\\W2021T2M17.tif\n"
     ]
    },
    {
     "name": "stderr",
     "output_type": "stream",
     "text": [
      "Consider adjusting `region`, `scale` and/or `dtype` to reduce the W2021T2M17.tif download size (raw: 1.43 GB).\n"
     ]
    },
    {
     "data": {
      "application/vnd.jupyter.widget-view+json": {
       "model_id": "2c4f7b2639a34f14b84c7378ca4ca686",
       "version_major": 2,
       "version_minor": 0
      },
      "text/plain": [
       "W2021T2M17.tif: |                                                     | 0.00/1.43G (raw) [  0.0%] in 00:00 (et…"
      ]
     },
     "metadata": {},
     "output_type": "display_data"
    },
    {
     "name": "stdout",
     "output_type": "stream",
     "text": [
      "Downloading 18/36: E:/predictNEE_VAR/2021/T2M250m\\W2021T2M18.tif\n"
     ]
    },
    {
     "name": "stderr",
     "output_type": "stream",
     "text": [
      "Consider adjusting `region`, `scale` and/or `dtype` to reduce the W2021T2M18.tif download size (raw: 1.43 GB).\n"
     ]
    },
    {
     "data": {
      "application/vnd.jupyter.widget-view+json": {
       "model_id": "2181e73724184f9b85aa67b095b7c393",
       "version_major": 2,
       "version_minor": 0
      },
      "text/plain": [
       "W2021T2M18.tif: |                                                     | 0.00/1.43G (raw) [  0.0%] in 00:00 (et…"
      ]
     },
     "metadata": {},
     "output_type": "display_data"
    },
    {
     "name": "stdout",
     "output_type": "stream",
     "text": [
      "Downloading 19/36: E:/predictNEE_VAR/2021/T2M250m\\W2021T2M19.tif\n"
     ]
    },
    {
     "name": "stderr",
     "output_type": "stream",
     "text": [
      "Consider adjusting `region`, `scale` and/or `dtype` to reduce the W2021T2M19.tif download size (raw: 1.43 GB).\n"
     ]
    },
    {
     "data": {
      "application/vnd.jupyter.widget-view+json": {
       "model_id": "a129229de75046cb9b916d743ef8d848",
       "version_major": 2,
       "version_minor": 0
      },
      "text/plain": [
       "W2021T2M19.tif: |                                                     | 0.00/1.43G (raw) [  0.0%] in 00:00 (et…"
      ]
     },
     "metadata": {},
     "output_type": "display_data"
    },
    {
     "name": "stdout",
     "output_type": "stream",
     "text": [
      "Downloading 20/36: E:/predictNEE_VAR/2021/T2M250m\\W2021T2M20.tif\n"
     ]
    },
    {
     "name": "stderr",
     "output_type": "stream",
     "text": [
      "Consider adjusting `region`, `scale` and/or `dtype` to reduce the W2021T2M20.tif download size (raw: 1.43 GB).\n"
     ]
    },
    {
     "data": {
      "application/vnd.jupyter.widget-view+json": {
       "model_id": "49404a1b4dd54c7c840ec50668786ec1",
       "version_major": 2,
       "version_minor": 0
      },
      "text/plain": [
       "W2021T2M20.tif: |                                                     | 0.00/1.43G (raw) [  0.0%] in 00:00 (et…"
      ]
     },
     "metadata": {},
     "output_type": "display_data"
    },
    {
     "name": "stdout",
     "output_type": "stream",
     "text": [
      "Downloading 21/36: E:/predictNEE_VAR/2021/T2M250m\\W2021T2M21.tif\n"
     ]
    },
    {
     "name": "stderr",
     "output_type": "stream",
     "text": [
      "Consider adjusting `region`, `scale` and/or `dtype` to reduce the W2021T2M21.tif download size (raw: 1.43 GB).\n"
     ]
    },
    {
     "data": {
      "application/vnd.jupyter.widget-view+json": {
       "model_id": "275fee0463584bf4a1d358e6eb1f33bc",
       "version_major": 2,
       "version_minor": 0
      },
      "text/plain": [
       "W2021T2M21.tif: |                                                     | 0.00/1.43G (raw) [  0.0%] in 00:00 (et…"
      ]
     },
     "metadata": {},
     "output_type": "display_data"
    },
    {
     "name": "stdout",
     "output_type": "stream",
     "text": [
      "Downloading 22/36: E:/predictNEE_VAR/2021/T2M250m\\W2021T2M22.tif\n"
     ]
    },
    {
     "name": "stderr",
     "output_type": "stream",
     "text": [
      "Consider adjusting `region`, `scale` and/or `dtype` to reduce the W2021T2M22.tif download size (raw: 1.43 GB).\n"
     ]
    },
    {
     "data": {
      "application/vnd.jupyter.widget-view+json": {
       "model_id": "d7151de7ccdd446887f495525179b335",
       "version_major": 2,
       "version_minor": 0
      },
      "text/plain": [
       "W2021T2M22.tif: |                                                     | 0.00/1.43G (raw) [  0.0%] in 00:00 (et…"
      ]
     },
     "metadata": {},
     "output_type": "display_data"
    },
    {
     "name": "stdout",
     "output_type": "stream",
     "text": [
      "Downloading 23/36: E:/predictNEE_VAR/2021/T2M250m\\W2021T2M23.tif\n"
     ]
    },
    {
     "name": "stderr",
     "output_type": "stream",
     "text": [
      "Consider adjusting `region`, `scale` and/or `dtype` to reduce the W2021T2M23.tif download size (raw: 1.43 GB).\n"
     ]
    },
    {
     "data": {
      "application/vnd.jupyter.widget-view+json": {
       "model_id": "11a71d2c5ea4461a8644975e3b8dec0c",
       "version_major": 2,
       "version_minor": 0
      },
      "text/plain": [
       "W2021T2M23.tif: |                                                     | 0.00/1.43G (raw) [  0.0%] in 00:00 (et…"
      ]
     },
     "metadata": {},
     "output_type": "display_data"
    },
    {
     "name": "stdout",
     "output_type": "stream",
     "text": [
      "Downloading 24/36: E:/predictNEE_VAR/2021/T2M250m\\W2021T2M24.tif\n"
     ]
    },
    {
     "name": "stderr",
     "output_type": "stream",
     "text": [
      "Consider adjusting `region`, `scale` and/or `dtype` to reduce the W2021T2M24.tif download size (raw: 1.43 GB).\n"
     ]
    },
    {
     "data": {
      "application/vnd.jupyter.widget-view+json": {
       "model_id": "62e5e81f02aa4a7b86228f327619f1e6",
       "version_major": 2,
       "version_minor": 0
      },
      "text/plain": [
       "W2021T2M24.tif: |                                                     | 0.00/1.43G (raw) [  0.0%] in 00:00 (et…"
      ]
     },
     "metadata": {},
     "output_type": "display_data"
    },
    {
     "name": "stdout",
     "output_type": "stream",
     "text": [
      "Downloading 25/36: E:/predictNEE_VAR/2021/T2M250m\\W2021T2M25.tif\n"
     ]
    },
    {
     "name": "stderr",
     "output_type": "stream",
     "text": [
      "Consider adjusting `region`, `scale` and/or `dtype` to reduce the W2021T2M25.tif download size (raw: 1.43 GB).\n"
     ]
    },
    {
     "data": {
      "application/vnd.jupyter.widget-view+json": {
       "model_id": "f29757a9676744458e8b5d304bc73821",
       "version_major": 2,
       "version_minor": 0
      },
      "text/plain": [
       "W2021T2M25.tif: |                                                     | 0.00/1.43G (raw) [  0.0%] in 00:00 (et…"
      ]
     },
     "metadata": {},
     "output_type": "display_data"
    },
    {
     "name": "stdout",
     "output_type": "stream",
     "text": [
      "Downloading 26/36: E:/predictNEE_VAR/2021/T2M250m\\W2021T2M26.tif\n"
     ]
    },
    {
     "name": "stderr",
     "output_type": "stream",
     "text": [
      "Consider adjusting `region`, `scale` and/or `dtype` to reduce the W2021T2M26.tif download size (raw: 1.43 GB).\n"
     ]
    },
    {
     "data": {
      "application/vnd.jupyter.widget-view+json": {
       "model_id": "1bd653eb48e549f1af740fbf6e985347",
       "version_major": 2,
       "version_minor": 0
      },
      "text/plain": [
       "W2021T2M26.tif: |                                                     | 0.00/1.43G (raw) [  0.0%] in 00:00 (et…"
      ]
     },
     "metadata": {},
     "output_type": "display_data"
    },
    {
     "name": "stdout",
     "output_type": "stream",
     "text": [
      "Downloading 27/36: E:/predictNEE_VAR/2021/T2M250m\\W2021T2M27.tif\n"
     ]
    },
    {
     "name": "stderr",
     "output_type": "stream",
     "text": [
      "Consider adjusting `region`, `scale` and/or `dtype` to reduce the W2021T2M27.tif download size (raw: 1.43 GB).\n"
     ]
    },
    {
     "data": {
      "application/vnd.jupyter.widget-view+json": {
       "model_id": "ed36e4bcd2c44303a0d7c951df235a66",
       "version_major": 2,
       "version_minor": 0
      },
      "text/plain": [
       "W2021T2M27.tif: |                                                     | 0.00/1.43G (raw) [  0.0%] in 00:00 (et…"
      ]
     },
     "metadata": {},
     "output_type": "display_data"
    },
    {
     "name": "stdout",
     "output_type": "stream",
     "text": [
      "Downloading 28/36: E:/predictNEE_VAR/2021/T2M250m\\W2021T2M28.tif\n"
     ]
    },
    {
     "name": "stderr",
     "output_type": "stream",
     "text": [
      "Consider adjusting `region`, `scale` and/or `dtype` to reduce the W2021T2M28.tif download size (raw: 1.43 GB).\n"
     ]
    },
    {
     "data": {
      "application/vnd.jupyter.widget-view+json": {
       "model_id": "31561985f25a44f283dff4465030eeeb",
       "version_major": 2,
       "version_minor": 0
      },
      "text/plain": [
       "W2021T2M28.tif: |                                                     | 0.00/1.43G (raw) [  0.0%] in 00:00 (et…"
      ]
     },
     "metadata": {},
     "output_type": "display_data"
    },
    {
     "name": "stdout",
     "output_type": "stream",
     "text": [
      "Downloading 29/36: E:/predictNEE_VAR/2021/T2M250m\\W2021T2M29.tif\n"
     ]
    },
    {
     "name": "stderr",
     "output_type": "stream",
     "text": [
      "Consider adjusting `region`, `scale` and/or `dtype` to reduce the W2021T2M29.tif download size (raw: 1.43 GB).\n"
     ]
    },
    {
     "data": {
      "application/vnd.jupyter.widget-view+json": {
       "model_id": "08d74ff5aee34a4ea327a68fa85f99a9",
       "version_major": 2,
       "version_minor": 0
      },
      "text/plain": [
       "W2021T2M29.tif: |                                                     | 0.00/1.43G (raw) [  0.0%] in 00:00 (et…"
      ]
     },
     "metadata": {},
     "output_type": "display_data"
    },
    {
     "name": "stdout",
     "output_type": "stream",
     "text": [
      "Downloading 30/36: E:/predictNEE_VAR/2021/T2M250m\\W2021T2M30.tif\n"
     ]
    },
    {
     "name": "stderr",
     "output_type": "stream",
     "text": [
      "Consider adjusting `region`, `scale` and/or `dtype` to reduce the W2021T2M30.tif download size (raw: 1.43 GB).\n"
     ]
    },
    {
     "data": {
      "application/vnd.jupyter.widget-view+json": {
       "model_id": "6303b62ce01c4863be5b279bf6bb1921",
       "version_major": 2,
       "version_minor": 0
      },
      "text/plain": [
       "W2021T2M30.tif: |                                                     | 0.00/1.43G (raw) [  0.0%] in 00:00 (et…"
      ]
     },
     "metadata": {},
     "output_type": "display_data"
    },
    {
     "name": "stdout",
     "output_type": "stream",
     "text": [
      "Downloading 31/36: E:/predictNEE_VAR/2021/T2M250m\\W2021T2M31.tif\n"
     ]
    },
    {
     "name": "stderr",
     "output_type": "stream",
     "text": [
      "Consider adjusting `region`, `scale` and/or `dtype` to reduce the W2021T2M31.tif download size (raw: 1.43 GB).\n"
     ]
    },
    {
     "data": {
      "application/vnd.jupyter.widget-view+json": {
       "model_id": "f2130928b3944fb19ebe4cb441900578",
       "version_major": 2,
       "version_minor": 0
      },
      "text/plain": [
       "W2021T2M31.tif: |                                                     | 0.00/1.43G (raw) [  0.0%] in 00:00 (et…"
      ]
     },
     "metadata": {},
     "output_type": "display_data"
    },
    {
     "name": "stdout",
     "output_type": "stream",
     "text": [
      "Downloading 32/36: E:/predictNEE_VAR/2021/T2M250m\\W2021T2M32.tif\n"
     ]
    },
    {
     "name": "stderr",
     "output_type": "stream",
     "text": [
      "Consider adjusting `region`, `scale` and/or `dtype` to reduce the W2021T2M32.tif download size (raw: 1.43 GB).\n"
     ]
    },
    {
     "data": {
      "application/vnd.jupyter.widget-view+json": {
       "model_id": "0e877327e24746bdacf451306077dda1",
       "version_major": 2,
       "version_minor": 0
      },
      "text/plain": [
       "W2021T2M32.tif: |                                                     | 0.00/1.43G (raw) [  0.0%] in 00:00 (et…"
      ]
     },
     "metadata": {},
     "output_type": "display_data"
    },
    {
     "name": "stdout",
     "output_type": "stream",
     "text": [
      "Downloading 33/36: E:/predictNEE_VAR/2021/T2M250m\\W2021T2M33.tif\n"
     ]
    },
    {
     "name": "stderr",
     "output_type": "stream",
     "text": [
      "Consider adjusting `region`, `scale` and/or `dtype` to reduce the W2021T2M33.tif download size (raw: 1.43 GB).\n"
     ]
    },
    {
     "data": {
      "application/vnd.jupyter.widget-view+json": {
       "model_id": "109ce0dcb03d451ea40b595a0ef3c5a0",
       "version_major": 2,
       "version_minor": 0
      },
      "text/plain": [
       "W2021T2M33.tif: |                                                     | 0.00/1.43G (raw) [  0.0%] in 00:00 (et…"
      ]
     },
     "metadata": {},
     "output_type": "display_data"
    },
    {
     "name": "stdout",
     "output_type": "stream",
     "text": [
      "Downloading 34/36: E:/predictNEE_VAR/2021/T2M250m\\W2021T2M34.tif\n"
     ]
    },
    {
     "name": "stderr",
     "output_type": "stream",
     "text": [
      "Consider adjusting `region`, `scale` and/or `dtype` to reduce the W2021T2M34.tif download size (raw: 1.43 GB).\n"
     ]
    },
    {
     "data": {
      "application/vnd.jupyter.widget-view+json": {
       "model_id": "7f1923603e3a4cf882f62033e7175496",
       "version_major": 2,
       "version_minor": 0
      },
      "text/plain": [
       "W2021T2M34.tif: |                                                     | 0.00/1.43G (raw) [  0.0%] in 00:00 (et…"
      ]
     },
     "metadata": {},
     "output_type": "display_data"
    },
    {
     "name": "stdout",
     "output_type": "stream",
     "text": [
      "Downloading 35/36: E:/predictNEE_VAR/2021/T2M250m\\W2021T2M35.tif\n"
     ]
    },
    {
     "name": "stderr",
     "output_type": "stream",
     "text": [
      "Consider adjusting `region`, `scale` and/or `dtype` to reduce the W2021T2M35.tif download size (raw: 1.43 GB).\n"
     ]
    },
    {
     "data": {
      "application/vnd.jupyter.widget-view+json": {
       "model_id": "84dcf260d3dd4dd282f33f95dae5eef7",
       "version_major": 2,
       "version_minor": 0
      },
      "text/plain": [
       "W2021T2M35.tif: |                                                     | 0.00/1.43G (raw) [  0.0%] in 00:00 (et…"
      ]
     },
     "metadata": {},
     "output_type": "display_data"
    },
    {
     "name": "stdout",
     "output_type": "stream",
     "text": [
      "Downloading 36/36: E:/predictNEE_VAR/2021/T2M250m\\W2021T2M36.tif\n"
     ]
    },
    {
     "name": "stderr",
     "output_type": "stream",
     "text": [
      "Consider adjusting `region`, `scale` and/or `dtype` to reduce the W2021T2M36.tif download size (raw: 1.43 GB).\n"
     ]
    },
    {
     "data": {
      "application/vnd.jupyter.widget-view+json": {
       "model_id": "84bb46dde1304b888ec8ed589705be5b",
       "version_major": 2,
       "version_minor": 0
      },
      "text/plain": [
       "W2021T2M36.tif: |                                                     | 0.00/1.43G (raw) [  0.0%] in 00:00 (et…"
      ]
     },
     "metadata": {},
     "output_type": "display_data"
    }
   ],
   "source": [
    "image = ee.Image(images.get(29)) #2021\n",
    "dir_name = \"E:/predictNEE_VAR/2021/T2M250m\"\n",
    "geemap.download_ee_image_tiles(image, fishnet, dir_name, prefix=\"W2021T2M\", crs='EPSG:4326', scale=250)"
   ]
  },
  {
   "cell_type": "code",
   "execution_count": null,
   "id": "d279691a-5339-4acc-9b56-38ec577e010e",
   "metadata": {},
   "outputs": [],
   "source": []
  },
  {
   "cell_type": "code",
   "execution_count": null,
   "id": "e762e7d2-4d30-4bd6-8ea0-c1729089f37c",
   "metadata": {},
   "outputs": [],
   "source": []
  },
  {
   "cell_type": "code",
   "execution_count": null,
   "id": "d41d9a2c-aad6-4440-8697-0c674c3dc761",
   "metadata": {},
   "outputs": [],
   "source": []
  }
 ],
 "metadata": {
  "kernelspec": {
   "display_name": "Python 3 (ipykernel)",
   "language": "python",
   "name": "python3"
  },
  "language_info": {
   "codemirror_mode": {
    "name": "ipython",
    "version": 3
   },
   "file_extension": ".py",
   "mimetype": "text/x-python",
   "name": "python",
   "nbconvert_exporter": "python",
   "pygments_lexer": "ipython3",
   "version": "3.9.12"
  }
 },
 "nbformat": 4,
 "nbformat_minor": 5
}
