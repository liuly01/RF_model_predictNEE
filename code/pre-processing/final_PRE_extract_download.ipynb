{
 "cells": [
  {
   "cell_type": "code",
   "execution_count": 1,
   "id": "53fa66e4-1a48-4fcb-918f-24280d358e09",
   "metadata": {},
   "outputs": [],
   "source": [
    "import geemap\n",
    "import ee\n",
    "import os\n",
    "geemap.set_proxy(port = 23457)\n",
    "geemap.ee_initialize()"
   ]
  },
  {
   "cell_type": "code",
   "execution_count": 4,
   "id": "dbc9a98a-b598-4f8d-92c1-ccc221ebca5d",
   "metadata": {},
   "outputs": [
    {
     "data": {
      "text/plain": [
       "31"
      ]
     },
     "execution_count": 4,
     "metadata": {},
     "output_type": "execute_result"
    }
   ],
   "source": [
    "ERA5 = ee.ImageCollection(\"ECMWF/ERA5_LAND/MONTHLY\").filterDate('1992-01-01', '2023-01-01')\n",
    "years = ee.List.sequence(1992,2022)\n",
    "def reference(year):\n",
    "    \n",
    "    start_date = ee.Date.fromYMD(year, 1, 1)\n",
    "    end_date = start_date.advance(1, \"year\")\n",
    "\n",
    "    dataset = ee.ImageCollection(ERA5).select('total_precipitation').filterDate(start_date, end_date)\n",
    "    \n",
    "    image = dataset.reduce(ee.Reducer.mean())\n",
    "    \n",
    "    return image\n",
    "images = years.map(reference)\n",
    "images.size().getInfo()"
   ]
  },
  {
   "cell_type": "code",
   "execution_count": null,
   "id": "2d7beaf1-8fdc-4531-b7f8-65e62f20c426",
   "metadata": {},
   "outputs": [],
   "source": [
    "# Site-level data extraction\n",
    "Map = geemap.Map()\n",
    "in_shp = 'D:/han/NEE_train/globalflux/globalsitesfinal.shp'\n",
    "in_fc = geemap.shp_to_ee(in_shp)\n",
    "Map.addLayer(in_fc, {}, 'globalsites')\n",
    "Map"
   ]
  },
  {
   "cell_type": "code",
   "execution_count": null,
   "id": "0d423434-877d-4bbe-aafc-c2a9b77f83e1",
   "metadata": {},
   "outputs": [],
   "source": [
    "for index in range(0, 29):\n",
    "    image = ee.Image(images.get(index))\n",
    "    file_name = \"E:/predictNEE_VAR/2017/PRE250m/\"+ str(1992+index) +\"_avePRE.csv\"\n",
    "    geemap.extract_values_to_points(in_fc, image, out_fc = file_name, scale=250, crs = 'EPSG:4326')"
   ]
  },
  {
   "cell_type": "code",
   "execution_count": 6,
   "id": "8069ddc6-f4bc-4c8a-b4cf-cc82231e2d03",
   "metadata": {},
   "outputs": [
    {
     "data": {
      "text/plain": [
       "36"
      ]
     },
     "execution_count": 6,
     "metadata": {},
     "output_type": "execute_result"
    }
   ],
   "source": [
    "# Data chunking download\n",
    "#feature = ee.Geometry.BBox(-180, -90, -30, 60) #west\n",
    "feature = ee.Geometry.BBox(0, -90, 150, 60) #east\n",
    "fishnet = geemap.fishnet(feature, h_interval=30, v_interval=30)\n",
    "fishnet.size().getInfo()"
   ]
  },
  {
   "cell_type": "code",
   "execution_count": 7,
   "id": "bc364bc9-7e42-4e65-89ee-506c8164cd55",
   "metadata": {},
   "outputs": [
    {
     "name": "stdout",
     "output_type": "stream",
     "text": [
      "Downloading 1/36: E:/predictNEE_VAR/2021/PRE250m\\E2021PRE01.tif\n"
     ]
    },
    {
     "name": "stderr",
     "output_type": "stream",
     "text": [
      "Consider adjusting `region`, `scale` and/or `dtype` to reduce the E2021PRE01.tif download size (raw: 1.43 GB).\n"
     ]
    },
    {
     "data": {
      "application/vnd.jupyter.widget-view+json": {
       "model_id": "e5b750a5ed5649fb8e106eff7a627bba",
       "version_major": 2,
       "version_minor": 0
      },
      "text/plain": [
       "E2021PRE01.tif: |                                                     | 0.00/1.43G (raw) [  0.0%] in 00:00 (et…"
      ]
     },
     "metadata": {},
     "output_type": "display_data"
    },
    {
     "name": "stdout",
     "output_type": "stream",
     "text": [
      "Downloading 2/36: E:/predictNEE_VAR/2021/PRE250m\\E2021PRE02.tif\n"
     ]
    },
    {
     "name": "stderr",
     "output_type": "stream",
     "text": [
      "Consider adjusting `region`, `scale` and/or `dtype` to reduce the E2021PRE02.tif download size (raw: 1.43 GB).\n"
     ]
    },
    {
     "data": {
      "application/vnd.jupyter.widget-view+json": {
       "model_id": "6feec2b316e74bd695c5251981a6a59f",
       "version_major": 2,
       "version_minor": 0
      },
      "text/plain": [
       "E2021PRE02.tif: |                                                     | 0.00/1.43G (raw) [  0.0%] in 00:00 (et…"
      ]
     },
     "metadata": {},
     "output_type": "display_data"
    },
    {
     "name": "stdout",
     "output_type": "stream",
     "text": [
      "Downloading 3/36: E:/predictNEE_VAR/2021/PRE250m\\E2021PRE03.tif\n"
     ]
    },
    {
     "name": "stderr",
     "output_type": "stream",
     "text": [
      "Consider adjusting `region`, `scale` and/or `dtype` to reduce the E2021PRE03.tif download size (raw: 1.43 GB).\n"
     ]
    },
    {
     "data": {
      "application/vnd.jupyter.widget-view+json": {
       "model_id": "80003dd90aa04ecba1fad80278e24cda",
       "version_major": 2,
       "version_minor": 0
      },
      "text/plain": [
       "E2021PRE03.tif: |                                                     | 0.00/1.43G (raw) [  0.0%] in 00:00 (et…"
      ]
     },
     "metadata": {},
     "output_type": "display_data"
    },
    {
     "name": "stdout",
     "output_type": "stream",
     "text": [
      "Downloading 4/36: E:/predictNEE_VAR/2021/PRE250m\\E2021PRE04.tif\n"
     ]
    },
    {
     "name": "stderr",
     "output_type": "stream",
     "text": [
      "Consider adjusting `region`, `scale` and/or `dtype` to reduce the E2021PRE04.tif download size (raw: 1.43 GB).\n"
     ]
    },
    {
     "data": {
      "application/vnd.jupyter.widget-view+json": {
       "model_id": "c524ebb9eaf64d69ae66747cdef259fb",
       "version_major": 2,
       "version_minor": 0
      },
      "text/plain": [
       "E2021PRE04.tif: |                                                     | 0.00/1.43G (raw) [  0.0%] in 00:00 (et…"
      ]
     },
     "metadata": {},
     "output_type": "display_data"
    },
    {
     "name": "stdout",
     "output_type": "stream",
     "text": [
      "Downloading 5/36: E:/predictNEE_VAR/2021/PRE250m\\E2021PRE05.tif\n"
     ]
    },
    {
     "name": "stderr",
     "output_type": "stream",
     "text": [
      "Consider adjusting `region`, `scale` and/or `dtype` to reduce the E2021PRE05.tif download size (raw: 1.43 GB).\n"
     ]
    },
    {
     "data": {
      "application/vnd.jupyter.widget-view+json": {
       "model_id": "2f753f1cd1d84f2589a965b2e7738dd4",
       "version_major": 2,
       "version_minor": 0
      },
      "text/plain": [
       "E2021PRE05.tif: |                                                     | 0.00/1.43G (raw) [  0.0%] in 00:00 (et…"
      ]
     },
     "metadata": {},
     "output_type": "display_data"
    },
    {
     "name": "stdout",
     "output_type": "stream",
     "text": [
      "Downloading 6/36: E:/predictNEE_VAR/2021/PRE250m\\E2021PRE06.tif\n"
     ]
    },
    {
     "name": "stderr",
     "output_type": "stream",
     "text": [
      "Consider adjusting `region`, `scale` and/or `dtype` to reduce the E2021PRE06.tif download size (raw: 1.43 GB).\n"
     ]
    },
    {
     "data": {
      "application/vnd.jupyter.widget-view+json": {
       "model_id": "d163d51244ed4b548f838e910fadbc80",
       "version_major": 2,
       "version_minor": 0
      },
      "text/plain": [
       "E2021PRE06.tif: |                                                     | 0.00/1.43G (raw) [  0.0%] in 00:00 (et…"
      ]
     },
     "metadata": {},
     "output_type": "display_data"
    },
    {
     "name": "stdout",
     "output_type": "stream",
     "text": [
      "Downloading 7/36: E:/predictNEE_VAR/2021/PRE250m\\E2021PRE07.tif\n"
     ]
    },
    {
     "name": "stderr",
     "output_type": "stream",
     "text": [
      "Consider adjusting `region`, `scale` and/or `dtype` to reduce the E2021PRE07.tif download size (raw: 1.43 GB).\n"
     ]
    },
    {
     "data": {
      "application/vnd.jupyter.widget-view+json": {
       "model_id": "d0446f388d9e4e38a9f0727cf3bb9ee0",
       "version_major": 2,
       "version_minor": 0
      },
      "text/plain": [
       "E2021PRE07.tif: |                                                     | 0.00/1.43G (raw) [  0.0%] in 00:00 (et…"
      ]
     },
     "metadata": {},
     "output_type": "display_data"
    },
    {
     "name": "stdout",
     "output_type": "stream",
     "text": [
      "Downloading 8/36: E:/predictNEE_VAR/2021/PRE250m\\E2021PRE08.tif\n"
     ]
    },
    {
     "name": "stderr",
     "output_type": "stream",
     "text": [
      "Consider adjusting `region`, `scale` and/or `dtype` to reduce the E2021PRE08.tif download size (raw: 1.43 GB).\n"
     ]
    },
    {
     "data": {
      "application/vnd.jupyter.widget-view+json": {
       "model_id": "00ca9425251a4868b62c7ca9444ecb5c",
       "version_major": 2,
       "version_minor": 0
      },
      "text/plain": [
       "E2021PRE08.tif: |                                                     | 0.00/1.43G (raw) [  0.0%] in 00:00 (et…"
      ]
     },
     "metadata": {},
     "output_type": "display_data"
    },
    {
     "name": "stdout",
     "output_type": "stream",
     "text": [
      "Downloading 9/36: E:/predictNEE_VAR/2021/PRE250m\\E2021PRE09.tif\n"
     ]
    },
    {
     "name": "stderr",
     "output_type": "stream",
     "text": [
      "Consider adjusting `region`, `scale` and/or `dtype` to reduce the E2021PRE09.tif download size (raw: 1.43 GB).\n"
     ]
    },
    {
     "data": {
      "application/vnd.jupyter.widget-view+json": {
       "model_id": "698fdcc61a174d9bab60001bca2ec2ac",
       "version_major": 2,
       "version_minor": 0
      },
      "text/plain": [
       "E2021PRE09.tif: |                                                     | 0.00/1.43G (raw) [  0.0%] in 00:00 (et…"
      ]
     },
     "metadata": {},
     "output_type": "display_data"
    },
    {
     "name": "stdout",
     "output_type": "stream",
     "text": [
      "Downloading 10/36: E:/predictNEE_VAR/2021/PRE250m\\E2021PRE10.tif\n"
     ]
    },
    {
     "name": "stderr",
     "output_type": "stream",
     "text": [
      "Consider adjusting `region`, `scale` and/or `dtype` to reduce the E2021PRE10.tif download size (raw: 1.43 GB).\n"
     ]
    },
    {
     "data": {
      "application/vnd.jupyter.widget-view+json": {
       "model_id": "e37efedcfcf146bbafe8596bc2e65159",
       "version_major": 2,
       "version_minor": 0
      },
      "text/plain": [
       "E2021PRE10.tif: |                                                     | 0.00/1.43G (raw) [  0.0%] in 00:00 (et…"
      ]
     },
     "metadata": {},
     "output_type": "display_data"
    },
    {
     "name": "stdout",
     "output_type": "stream",
     "text": [
      "Downloading 11/36: E:/predictNEE_VAR/2021/PRE250m\\E2021PRE11.tif\n"
     ]
    },
    {
     "name": "stderr",
     "output_type": "stream",
     "text": [
      "Consider adjusting `region`, `scale` and/or `dtype` to reduce the E2021PRE11.tif download size (raw: 1.43 GB).\n"
     ]
    },
    {
     "data": {
      "application/vnd.jupyter.widget-view+json": {
       "model_id": "a59cf81862ba421488488df8410df315",
       "version_major": 2,
       "version_minor": 0
      },
      "text/plain": [
       "E2021PRE11.tif: |                                                     | 0.00/1.43G (raw) [  0.0%] in 00:00 (et…"
      ]
     },
     "metadata": {},
     "output_type": "display_data"
    },
    {
     "name": "stdout",
     "output_type": "stream",
     "text": [
      "Downloading 12/36: E:/predictNEE_VAR/2021/PRE250m\\E2021PRE12.tif\n"
     ]
    },
    {
     "name": "stderr",
     "output_type": "stream",
     "text": [
      "Consider adjusting `region`, `scale` and/or `dtype` to reduce the E2021PRE12.tif download size (raw: 1.43 GB).\n"
     ]
    },
    {
     "data": {
      "application/vnd.jupyter.widget-view+json": {
       "model_id": "1f741095b5774b779bf4b1a40cd6873e",
       "version_major": 2,
       "version_minor": 0
      },
      "text/plain": [
       "E2021PRE12.tif: |                                                     | 0.00/1.43G (raw) [  0.0%] in 00:00 (et…"
      ]
     },
     "metadata": {},
     "output_type": "display_data"
    },
    {
     "name": "stdout",
     "output_type": "stream",
     "text": [
      "Downloading 13/36: E:/predictNEE_VAR/2021/PRE250m\\E2021PRE13.tif\n"
     ]
    },
    {
     "name": "stderr",
     "output_type": "stream",
     "text": [
      "Consider adjusting `region`, `scale` and/or `dtype` to reduce the E2021PRE13.tif download size (raw: 1.43 GB).\n"
     ]
    },
    {
     "data": {
      "application/vnd.jupyter.widget-view+json": {
       "model_id": "39eba6e24d214470989a2b3a6bcf354c",
       "version_major": 2,
       "version_minor": 0
      },
      "text/plain": [
       "E2021PRE13.tif: |                                                     | 0.00/1.43G (raw) [  0.0%] in 00:00 (et…"
      ]
     },
     "metadata": {},
     "output_type": "display_data"
    },
    {
     "name": "stdout",
     "output_type": "stream",
     "text": [
      "Downloading 14/36: E:/predictNEE_VAR/2021/PRE250m\\E2021PRE14.tif\n"
     ]
    },
    {
     "name": "stderr",
     "output_type": "stream",
     "text": [
      "Consider adjusting `region`, `scale` and/or `dtype` to reduce the E2021PRE14.tif download size (raw: 1.43 GB).\n"
     ]
    },
    {
     "data": {
      "application/vnd.jupyter.widget-view+json": {
       "model_id": "0d22de2bb8ad4a13bca0ed2fd26c5b01",
       "version_major": 2,
       "version_minor": 0
      },
      "text/plain": [
       "E2021PRE14.tif: |                                                     | 0.00/1.43G (raw) [  0.0%] in 00:00 (et…"
      ]
     },
     "metadata": {},
     "output_type": "display_data"
    },
    {
     "name": "stdout",
     "output_type": "stream",
     "text": [
      "Downloading 15/36: E:/predictNEE_VAR/2021/PRE250m\\E2021PRE15.tif\n"
     ]
    },
    {
     "name": "stderr",
     "output_type": "stream",
     "text": [
      "Consider adjusting `region`, `scale` and/or `dtype` to reduce the E2021PRE15.tif download size (raw: 1.43 GB).\n"
     ]
    },
    {
     "data": {
      "application/vnd.jupyter.widget-view+json": {
       "model_id": "173d020e8d9f4925a99393c5b91046b0",
       "version_major": 2,
       "version_minor": 0
      },
      "text/plain": [
       "E2021PRE15.tif: |                                                     | 0.00/1.43G (raw) [  0.0%] in 00:00 (et…"
      ]
     },
     "metadata": {},
     "output_type": "display_data"
    },
    {
     "name": "stdout",
     "output_type": "stream",
     "text": [
      "Downloading 16/36: E:/predictNEE_VAR/2021/PRE250m\\E2021PRE16.tif\n"
     ]
    },
    {
     "name": "stderr",
     "output_type": "stream",
     "text": [
      "Consider adjusting `region`, `scale` and/or `dtype` to reduce the E2021PRE16.tif download size (raw: 1.43 GB).\n"
     ]
    },
    {
     "data": {
      "application/vnd.jupyter.widget-view+json": {
       "model_id": "b3aef0264e7e43e19992749924aef631",
       "version_major": 2,
       "version_minor": 0
      },
      "text/plain": [
       "E2021PRE16.tif: |                                                     | 0.00/1.43G (raw) [  0.0%] in 00:00 (et…"
      ]
     },
     "metadata": {},
     "output_type": "display_data"
    },
    {
     "name": "stdout",
     "output_type": "stream",
     "text": [
      "Downloading 17/36: E:/predictNEE_VAR/2021/PRE250m\\E2021PRE17.tif\n"
     ]
    },
    {
     "name": "stderr",
     "output_type": "stream",
     "text": [
      "Consider adjusting `region`, `scale` and/or `dtype` to reduce the E2021PRE17.tif download size (raw: 1.43 GB).\n"
     ]
    },
    {
     "data": {
      "application/vnd.jupyter.widget-view+json": {
       "model_id": "ac52f23290f84c06bffd51967aa1f733",
       "version_major": 2,
       "version_minor": 0
      },
      "text/plain": [
       "E2021PRE17.tif: |                                                     | 0.00/1.43G (raw) [  0.0%] in 00:00 (et…"
      ]
     },
     "metadata": {},
     "output_type": "display_data"
    },
    {
     "name": "stdout",
     "output_type": "stream",
     "text": [
      "Downloading 18/36: E:/predictNEE_VAR/2021/PRE250m\\E2021PRE18.tif\n"
     ]
    },
    {
     "name": "stderr",
     "output_type": "stream",
     "text": [
      "Consider adjusting `region`, `scale` and/or `dtype` to reduce the E2021PRE18.tif download size (raw: 1.43 GB).\n"
     ]
    },
    {
     "data": {
      "application/vnd.jupyter.widget-view+json": {
       "model_id": "50adcb69f6bb4647bde5eb1b6183cf07",
       "version_major": 2,
       "version_minor": 0
      },
      "text/plain": [
       "E2021PRE18.tif: |                                                     | 0.00/1.43G (raw) [  0.0%] in 00:00 (et…"
      ]
     },
     "metadata": {},
     "output_type": "display_data"
    },
    {
     "name": "stdout",
     "output_type": "stream",
     "text": [
      "Downloading 19/36: E:/predictNEE_VAR/2021/PRE250m\\E2021PRE19.tif\n"
     ]
    },
    {
     "name": "stderr",
     "output_type": "stream",
     "text": [
      "Consider adjusting `region`, `scale` and/or `dtype` to reduce the E2021PRE19.tif download size (raw: 1.43 GB).\n"
     ]
    },
    {
     "data": {
      "application/vnd.jupyter.widget-view+json": {
       "model_id": "7cbd73d01ee949a8a8d7493b774ead45",
       "version_major": 2,
       "version_minor": 0
      },
      "text/plain": [
       "E2021PRE19.tif: |                                                     | 0.00/1.43G (raw) [  0.0%] in 00:00 (et…"
      ]
     },
     "metadata": {},
     "output_type": "display_data"
    },
    {
     "name": "stdout",
     "output_type": "stream",
     "text": [
      "Downloading 20/36: E:/predictNEE_VAR/2021/PRE250m\\E2021PRE20.tif\n"
     ]
    },
    {
     "name": "stderr",
     "output_type": "stream",
     "text": [
      "Consider adjusting `region`, `scale` and/or `dtype` to reduce the E2021PRE20.tif download size (raw: 1.43 GB).\n"
     ]
    },
    {
     "data": {
      "application/vnd.jupyter.widget-view+json": {
       "model_id": "7458719966b1449ca9334291a7af4cc5",
       "version_major": 2,
       "version_minor": 0
      },
      "text/plain": [
       "E2021PRE20.tif: |                                                     | 0.00/1.43G (raw) [  0.0%] in 00:00 (et…"
      ]
     },
     "metadata": {},
     "output_type": "display_data"
    },
    {
     "name": "stdout",
     "output_type": "stream",
     "text": [
      "Downloading 21/36: E:/predictNEE_VAR/2021/PRE250m\\E2021PRE21.tif\n"
     ]
    },
    {
     "name": "stderr",
     "output_type": "stream",
     "text": [
      "Consider adjusting `region`, `scale` and/or `dtype` to reduce the E2021PRE21.tif download size (raw: 1.43 GB).\n"
     ]
    },
    {
     "data": {
      "application/vnd.jupyter.widget-view+json": {
       "model_id": "5e9e807e4fb041f691bf2eb014f1e385",
       "version_major": 2,
       "version_minor": 0
      },
      "text/plain": [
       "E2021PRE21.tif: |                                                     | 0.00/1.43G (raw) [  0.0%] in 00:00 (et…"
      ]
     },
     "metadata": {},
     "output_type": "display_data"
    },
    {
     "name": "stdout",
     "output_type": "stream",
     "text": [
      "Downloading 22/36: E:/predictNEE_VAR/2021/PRE250m\\E2021PRE22.tif\n"
     ]
    },
    {
     "name": "stderr",
     "output_type": "stream",
     "text": [
      "Consider adjusting `region`, `scale` and/or `dtype` to reduce the E2021PRE22.tif download size (raw: 1.43 GB).\n"
     ]
    },
    {
     "data": {
      "application/vnd.jupyter.widget-view+json": {
       "model_id": "d222cac594854d6ba44352cffb527200",
       "version_major": 2,
       "version_minor": 0
      },
      "text/plain": [
       "E2021PRE22.tif: |                                                     | 0.00/1.43G (raw) [  0.0%] in 00:00 (et…"
      ]
     },
     "metadata": {},
     "output_type": "display_data"
    },
    {
     "name": "stdout",
     "output_type": "stream",
     "text": [
      "Downloading 23/36: E:/predictNEE_VAR/2021/PRE250m\\E2021PRE23.tif\n"
     ]
    },
    {
     "name": "stderr",
     "output_type": "stream",
     "text": [
      "Consider adjusting `region`, `scale` and/or `dtype` to reduce the E2021PRE23.tif download size (raw: 1.43 GB).\n"
     ]
    },
    {
     "data": {
      "application/vnd.jupyter.widget-view+json": {
       "model_id": "b6bc5f0b023a497bb363ddbe2f78636a",
       "version_major": 2,
       "version_minor": 0
      },
      "text/plain": [
       "E2021PRE23.tif: |                                                     | 0.00/1.43G (raw) [  0.0%] in 00:00 (et…"
      ]
     },
     "metadata": {},
     "output_type": "display_data"
    },
    {
     "name": "stdout",
     "output_type": "stream",
     "text": [
      "Downloading 24/36: E:/predictNEE_VAR/2021/PRE250m\\E2021PRE24.tif\n"
     ]
    },
    {
     "name": "stderr",
     "output_type": "stream",
     "text": [
      "Consider adjusting `region`, `scale` and/or `dtype` to reduce the E2021PRE24.tif download size (raw: 1.43 GB).\n"
     ]
    },
    {
     "data": {
      "application/vnd.jupyter.widget-view+json": {
       "model_id": "e52d0a55a6594f0a84c9c53149f3323d",
       "version_major": 2,
       "version_minor": 0
      },
      "text/plain": [
       "E2021PRE24.tif: |                                                     | 0.00/1.43G (raw) [  0.0%] in 00:00 (et…"
      ]
     },
     "metadata": {},
     "output_type": "display_data"
    },
    {
     "name": "stdout",
     "output_type": "stream",
     "text": [
      "Downloading 25/36: E:/predictNEE_VAR/2021/PRE250m\\E2021PRE25.tif\n"
     ]
    },
    {
     "name": "stderr",
     "output_type": "stream",
     "text": [
      "Consider adjusting `region`, `scale` and/or `dtype` to reduce the E2021PRE25.tif download size (raw: 1.43 GB).\n"
     ]
    },
    {
     "data": {
      "application/vnd.jupyter.widget-view+json": {
       "model_id": "1d1417daef0b48c5a90f7af44e819d94",
       "version_major": 2,
       "version_minor": 0
      },
      "text/plain": [
       "E2021PRE25.tif: |                                                     | 0.00/1.43G (raw) [  0.0%] in 00:00 (et…"
      ]
     },
     "metadata": {},
     "output_type": "display_data"
    },
    {
     "name": "stdout",
     "output_type": "stream",
     "text": [
      "Downloading 26/36: E:/predictNEE_VAR/2021/PRE250m\\E2021PRE26.tif\n"
     ]
    },
    {
     "name": "stderr",
     "output_type": "stream",
     "text": [
      "Consider adjusting `region`, `scale` and/or `dtype` to reduce the E2021PRE26.tif download size (raw: 1.43 GB).\n"
     ]
    },
    {
     "data": {
      "application/vnd.jupyter.widget-view+json": {
       "model_id": "6e3358df95c3443ba4cb0f2a6a2eba9b",
       "version_major": 2,
       "version_minor": 0
      },
      "text/plain": [
       "E2021PRE26.tif: |                                                     | 0.00/1.43G (raw) [  0.0%] in 00:00 (et…"
      ]
     },
     "metadata": {},
     "output_type": "display_data"
    },
    {
     "name": "stdout",
     "output_type": "stream",
     "text": [
      "Downloading 27/36: E:/predictNEE_VAR/2021/PRE250m\\E2021PRE27.tif\n"
     ]
    },
    {
     "name": "stderr",
     "output_type": "stream",
     "text": [
      "Consider adjusting `region`, `scale` and/or `dtype` to reduce the E2021PRE27.tif download size (raw: 1.43 GB).\n"
     ]
    },
    {
     "data": {
      "application/vnd.jupyter.widget-view+json": {
       "model_id": "3130b3bc20ca4799a1a49c86a8ad5a7a",
       "version_major": 2,
       "version_minor": 0
      },
      "text/plain": [
       "E2021PRE27.tif: |                                                     | 0.00/1.43G (raw) [  0.0%] in 00:00 (et…"
      ]
     },
     "metadata": {},
     "output_type": "display_data"
    },
    {
     "name": "stdout",
     "output_type": "stream",
     "text": [
      "Downloading 28/36: E:/predictNEE_VAR/2021/PRE250m\\E2021PRE28.tif\n"
     ]
    },
    {
     "name": "stderr",
     "output_type": "stream",
     "text": [
      "Consider adjusting `region`, `scale` and/or `dtype` to reduce the E2021PRE28.tif download size (raw: 1.43 GB).\n"
     ]
    },
    {
     "data": {
      "application/vnd.jupyter.widget-view+json": {
       "model_id": "7780a7786bfd4229b8e9bd22e252ee03",
       "version_major": 2,
       "version_minor": 0
      },
      "text/plain": [
       "E2021PRE28.tif: |                                                     | 0.00/1.43G (raw) [  0.0%] in 00:00 (et…"
      ]
     },
     "metadata": {},
     "output_type": "display_data"
    },
    {
     "name": "stdout",
     "output_type": "stream",
     "text": [
      "Downloading 29/36: E:/predictNEE_VAR/2021/PRE250m\\E2021PRE29.tif\n"
     ]
    },
    {
     "name": "stderr",
     "output_type": "stream",
     "text": [
      "Consider adjusting `region`, `scale` and/or `dtype` to reduce the E2021PRE29.tif download size (raw: 1.43 GB).\n"
     ]
    },
    {
     "data": {
      "application/vnd.jupyter.widget-view+json": {
       "model_id": "d80edcc66a91430f9409147736a58857",
       "version_major": 2,
       "version_minor": 0
      },
      "text/plain": [
       "E2021PRE29.tif: |                                                     | 0.00/1.43G (raw) [  0.0%] in 00:00 (et…"
      ]
     },
     "metadata": {},
     "output_type": "display_data"
    },
    {
     "name": "stdout",
     "output_type": "stream",
     "text": [
      "Downloading 30/36: E:/predictNEE_VAR/2021/PRE250m\\E2021PRE30.tif\n"
     ]
    },
    {
     "name": "stderr",
     "output_type": "stream",
     "text": [
      "Consider adjusting `region`, `scale` and/or `dtype` to reduce the E2021PRE30.tif download size (raw: 1.43 GB).\n"
     ]
    },
    {
     "data": {
      "application/vnd.jupyter.widget-view+json": {
       "model_id": "bcb453ce49094cb08d5003cf6fcb6ff5",
       "version_major": 2,
       "version_minor": 0
      },
      "text/plain": [
       "E2021PRE30.tif: |                                                     | 0.00/1.43G (raw) [  0.0%] in 00:00 (et…"
      ]
     },
     "metadata": {},
     "output_type": "display_data"
    },
    {
     "name": "stdout",
     "output_type": "stream",
     "text": [
      "Downloading 31/36: E:/predictNEE_VAR/2021/PRE250m\\E2021PRE31.tif\n"
     ]
    },
    {
     "name": "stderr",
     "output_type": "stream",
     "text": [
      "Consider adjusting `region`, `scale` and/or `dtype` to reduce the E2021PRE31.tif download size (raw: 1.43 GB).\n"
     ]
    },
    {
     "data": {
      "application/vnd.jupyter.widget-view+json": {
       "model_id": "52e818a2bb894aa58ae144db1c1a3993",
       "version_major": 2,
       "version_minor": 0
      },
      "text/plain": [
       "E2021PRE31.tif: |                                                     | 0.00/1.43G (raw) [  0.0%] in 00:00 (et…"
      ]
     },
     "metadata": {},
     "output_type": "display_data"
    },
    {
     "name": "stdout",
     "output_type": "stream",
     "text": [
      "Downloading 32/36: E:/predictNEE_VAR/2021/PRE250m\\E2021PRE32.tif\n"
     ]
    },
    {
     "name": "stderr",
     "output_type": "stream",
     "text": [
      "Consider adjusting `region`, `scale` and/or `dtype` to reduce the E2021PRE32.tif download size (raw: 1.43 GB).\n"
     ]
    },
    {
     "data": {
      "application/vnd.jupyter.widget-view+json": {
       "model_id": "20d4f9fe1e8a4f12b0a8922d34614541",
       "version_major": 2,
       "version_minor": 0
      },
      "text/plain": [
       "E2021PRE32.tif: |                                                     | 0.00/1.43G (raw) [  0.0%] in 00:00 (et…"
      ]
     },
     "metadata": {},
     "output_type": "display_data"
    },
    {
     "name": "stdout",
     "output_type": "stream",
     "text": [
      "Downloading 33/36: E:/predictNEE_VAR/2021/PRE250m\\E2021PRE33.tif\n"
     ]
    },
    {
     "name": "stderr",
     "output_type": "stream",
     "text": [
      "Consider adjusting `region`, `scale` and/or `dtype` to reduce the E2021PRE33.tif download size (raw: 1.43 GB).\n"
     ]
    },
    {
     "data": {
      "application/vnd.jupyter.widget-view+json": {
       "model_id": "bf2df046e4e74283a2bfa81c59fe4f14",
       "version_major": 2,
       "version_minor": 0
      },
      "text/plain": [
       "E2021PRE33.tif: |                                                     | 0.00/1.43G (raw) [  0.0%] in 00:00 (et…"
      ]
     },
     "metadata": {},
     "output_type": "display_data"
    },
    {
     "name": "stdout",
     "output_type": "stream",
     "text": [
      "Downloading 34/36: E:/predictNEE_VAR/2021/PRE250m\\E2021PRE34.tif\n"
     ]
    },
    {
     "name": "stderr",
     "output_type": "stream",
     "text": [
      "Consider adjusting `region`, `scale` and/or `dtype` to reduce the E2021PRE34.tif download size (raw: 1.43 GB).\n"
     ]
    },
    {
     "data": {
      "application/vnd.jupyter.widget-view+json": {
       "model_id": "76584164858445df8a82922846886875",
       "version_major": 2,
       "version_minor": 0
      },
      "text/plain": [
       "E2021PRE34.tif: |                                                     | 0.00/1.43G (raw) [  0.0%] in 00:00 (et…"
      ]
     },
     "metadata": {},
     "output_type": "display_data"
    },
    {
     "name": "stdout",
     "output_type": "stream",
     "text": [
      "Downloading 35/36: E:/predictNEE_VAR/2021/PRE250m\\E2021PRE35.tif\n"
     ]
    },
    {
     "name": "stderr",
     "output_type": "stream",
     "text": [
      "Consider adjusting `region`, `scale` and/or `dtype` to reduce the E2021PRE35.tif download size (raw: 1.43 GB).\n"
     ]
    },
    {
     "data": {
      "application/vnd.jupyter.widget-view+json": {
       "model_id": "5eb9794868054a2e9126f8769349d8f8",
       "version_major": 2,
       "version_minor": 0
      },
      "text/plain": [
       "E2021PRE35.tif: |                                                     | 0.00/1.43G (raw) [  0.0%] in 00:00 (et…"
      ]
     },
     "metadata": {},
     "output_type": "display_data"
    },
    {
     "name": "stdout",
     "output_type": "stream",
     "text": [
      "Downloading 36/36: E:/predictNEE_VAR/2021/PRE250m\\E2021PRE36.tif\n"
     ]
    },
    {
     "name": "stderr",
     "output_type": "stream",
     "text": [
      "Consider adjusting `region`, `scale` and/or `dtype` to reduce the E2021PRE36.tif download size (raw: 1.43 GB).\n"
     ]
    },
    {
     "data": {
      "application/vnd.jupyter.widget-view+json": {
       "model_id": "a81f2f2887e94959891631b6ade70995",
       "version_major": 2,
       "version_minor": 0
      },
      "text/plain": [
       "E2021PRE36.tif: |                                                     | 0.00/1.43G (raw) [  0.0%] in 00:00 (et…"
      ]
     },
     "metadata": {},
     "output_type": "display_data"
    }
   ],
   "source": [
    "image = ee.Image(images.get(29)) #2002\n",
    "dir_name = \"E:/predictNEE_VAR/2021/PRE250m\"\n",
    "#dir_name = \"D:/han/NEE_train/VAR/T2M250m\"\n",
    "geemap.download_ee_image_tiles(image, fishnet, dir_name, prefix=\"E2021PRE\", crs='EPSG:4326', scale=250)"
   ]
  },
  {
   "cell_type": "code",
   "execution_count": null,
   "id": "eb0e6384-37df-4f7c-93cd-b507cbf14aea",
   "metadata": {},
   "outputs": [],
   "source": []
  },
  {
   "cell_type": "code",
   "execution_count": null,
   "id": "f702796c-e4f4-4468-ae10-5960ac85869b",
   "metadata": {},
   "outputs": [],
   "source": []
  }
 ],
 "metadata": {
  "kernelspec": {
   "display_name": "Python 3 (ipykernel)",
   "language": "python",
   "name": "python3"
  },
  "language_info": {
   "codemirror_mode": {
    "name": "ipython",
    "version": 3
   },
   "file_extension": ".py",
   "mimetype": "text/x-python",
   "name": "python",
   "nbconvert_exporter": "python",
   "pygments_lexer": "ipython3",
   "version": "3.9.12"
  }
 },
 "nbformat": 4,
 "nbformat_minor": 5
}
