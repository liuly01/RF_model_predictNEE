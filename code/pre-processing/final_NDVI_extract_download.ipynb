{
 "cells": [
  {
   "cell_type": "code",
   "execution_count": 1,
   "id": "92a5309d-ab2e-442f-aabf-63ed7154bd54",
   "metadata": {},
   "outputs": [],
   "source": [
    "import geemap\n",
    "import ee\n",
    "import os\n",
    "geemap.set_proxy(port = 23457)"
   ]
  },
  {
   "cell_type": "code",
   "execution_count": 2,
   "id": "f14e78ae-03d7-4a97-97e2-1996af537754",
   "metadata": {},
   "outputs": [],
   "source": [
    "geemap.ee_initialize()"
   ]
  },
  {
   "cell_type": "code",
   "execution_count": 3,
   "id": "6a9b6df5-82c0-4362-b61b-47891e3b0760",
   "metadata": {},
   "outputs": [
    {
     "data": {
      "text/plain": [
       "22"
      ]
     },
     "execution_count": 3,
     "metadata": {},
     "output_type": "execute_result"
    }
   ],
   "source": [
    "years = ee.List.sequence(2001, 2022)\n",
    "def MODIS_IMAGE(year):\n",
    "\n",
    "    start_date = ee.Date.fromYMD(year, 1, 1)\n",
    "    end_date = start_date.advance(1, \"year\")\n",
    "\n",
    "    dataset = (\n",
    "        ee.ImageCollection(\"MODIS/061/MOD13Q1\")\n",
    "        .filterDate(start_date, end_date)\n",
    "        .select('NDVI')\n",
    "    )\n",
    "\n",
    "    image = dataset.reduce(ee.Reducer.mean())\n",
    "\n",
    "    return image\n",
    "# recycle\n",
    "images = years.map(MODIS_IMAGE)\n",
    "images.size().getInfo()"
   ]
  },
  {
   "cell_type": "code",
   "execution_count": null,
   "id": "743a8ecf-be7f-477e-bf5a-8f7098fb5e63",
   "metadata": {},
   "outputs": [],
   "source": [
    "Map = geemap.Map()\n",
    "image = ee.Image(images.get(0)) #2016\n",
    "Map.addLayer(image, {}, 'NDVI')\n",
    "Map"
   ]
  },
  {
   "cell_type": "code",
   "execution_count": null,
   "id": "5922a1bd-f68b-4836-b7c7-152e3279146e",
   "metadata": {},
   "outputs": [],
   "source": [
    "# import globalsites in GEE\n",
    "in_shp = 'D:/han/NEE_train/globalflux/globalsitesfinal.shp'\n",
    "in_fc = geemap.shp_to_ee(in_shp)\n",
    "Map.addLayer(in_fc, {}, 'globalsites')\n",
    "Map"
   ]
  },
  {
   "cell_type": "code",
   "execution_count": null,
   "id": "5472c5f0-e410-437d-9f7c-c9dce4a0c696",
   "metadata": {},
   "outputs": [],
   "source": [
    "for index in range(0, 20):\n",
    "    image = ee.Image(images.get(index))\n",
    "    file_name = \"D:/han/NEE_train/2023.01.23/barrensite/MODIS_NDVI_sitevalueave_250m/\"+ str(2001+index) +\"_aveNDVI.csv\"\n",
    "    geemap.extract_values_to_points(in_fc, image, out_fc = file_name, scale=250, crs = 'EPSG:4326')\n",
    "    #geemap.extract_values_to_points(in_fc, image, out_fc = file_name, scale=11132)"
   ]
  },
  {
   "cell_type": "code",
   "execution_count": 4,
   "id": "75474da2-dc2c-4bde-b590-95321865f74b",
   "metadata": {},
   "outputs": [
    {
     "data": {
      "text/plain": [
       "36"
      ]
     },
     "execution_count": 4,
     "metadata": {},
     "output_type": "execute_result"
    }
   ],
   "source": [
    "feature = ee.Geometry.BBox(-180, -90, -30, 60) #west\n",
    "#feature = ee.Geometry.BBox(0, -90, 150, 60) #east\n",
    "#feature = ee.Geometry.BBox(-60, 60, -30, 60) #west\n",
    "fishnet = geemap.fishnet(feature, h_interval=30, v_interval=30)\n",
    "fishnet.size().getInfo()"
   ]
  },
  {
   "cell_type": "code",
   "execution_count": 5,
   "id": "a06d86fb-5fd5-4bb6-995b-e412bf94e9c9",
   "metadata": {},
   "outputs": [
    {
     "name": "stdout",
     "output_type": "stream",
     "text": [
      "Downloading 1/36: E:/predictNEE_VAR/2021/NDVI250m\\W2021NDVI01.tif\n"
     ]
    },
    {
     "name": "stderr",
     "output_type": "stream",
     "text": [
      "Consider adjusting `region`, `scale` and/or `dtype` to reduce the W2021NDVI01.tif download size (raw: 1.43 GB).\n"
     ]
    },
    {
     "data": {
      "application/vnd.jupyter.widget-view+json": {
       "model_id": "d88e871c8c6c41b8a6bea1a5c6761888",
       "version_major": 2,
       "version_minor": 0
      },
      "text/plain": [
       "W2021NDVI01.tif: |                                                    | 0.00/1.43G (raw) [  0.0%] in 00:00 (et…"
      ]
     },
     "metadata": {},
     "output_type": "display_data"
    },
    {
     "name": "stderr",
     "output_type": "stream",
     "text": [
      "There is no STAC entry for: None\n"
     ]
    },
    {
     "name": "stdout",
     "output_type": "stream",
     "text": [
      "Downloading 2/36: E:/predictNEE_VAR/2021/NDVI250m\\W2021NDVI02.tif\n"
     ]
    },
    {
     "name": "stderr",
     "output_type": "stream",
     "text": [
      "Consider adjusting `region`, `scale` and/or `dtype` to reduce the W2021NDVI02.tif download size (raw: 1.43 GB).\n"
     ]
    },
    {
     "data": {
      "application/vnd.jupyter.widget-view+json": {
       "model_id": "5908d05b73c842458c3df5fe7d78f378",
       "version_major": 2,
       "version_minor": 0
      },
      "text/plain": [
       "W2021NDVI02.tif: |                                                    | 0.00/1.43G (raw) [  0.0%] in 00:00 (et…"
      ]
     },
     "metadata": {},
     "output_type": "display_data"
    },
    {
     "name": "stdout",
     "output_type": "stream",
     "text": [
      "Downloading 3/36: E:/predictNEE_VAR/2021/NDVI250m\\W2021NDVI03.tif\n"
     ]
    },
    {
     "name": "stderr",
     "output_type": "stream",
     "text": [
      "Consider adjusting `region`, `scale` and/or `dtype` to reduce the W2021NDVI03.tif download size (raw: 1.43 GB).\n"
     ]
    },
    {
     "data": {
      "application/vnd.jupyter.widget-view+json": {
       "model_id": "45b09d96bb3f4ef5835a3e3e53428e81",
       "version_major": 2,
       "version_minor": 0
      },
      "text/plain": [
       "W2021NDVI03.tif: |                                                    | 0.00/1.43G (raw) [  0.0%] in 00:00 (et…"
      ]
     },
     "metadata": {},
     "output_type": "display_data"
    },
    {
     "name": "stdout",
     "output_type": "stream",
     "text": [
      "Downloading 4/36: E:/predictNEE_VAR/2021/NDVI250m\\W2021NDVI04.tif\n"
     ]
    },
    {
     "name": "stderr",
     "output_type": "stream",
     "text": [
      "Consider adjusting `region`, `scale` and/or `dtype` to reduce the W2021NDVI04.tif download size (raw: 1.43 GB).\n"
     ]
    },
    {
     "data": {
      "application/vnd.jupyter.widget-view+json": {
       "model_id": "d895342943324a78a1a9a222acd3e5da",
       "version_major": 2,
       "version_minor": 0
      },
      "text/plain": [
       "W2021NDVI04.tif: |                                                    | 0.00/1.43G (raw) [  0.0%] in 00:00 (et…"
      ]
     },
     "metadata": {},
     "output_type": "display_data"
    },
    {
     "name": "stdout",
     "output_type": "stream",
     "text": [
      "Downloading 5/36: E:/predictNEE_VAR/2021/NDVI250m\\W2021NDVI05.tif\n"
     ]
    },
    {
     "name": "stderr",
     "output_type": "stream",
     "text": [
      "Consider adjusting `region`, `scale` and/or `dtype` to reduce the W2021NDVI05.tif download size (raw: 1.43 GB).\n"
     ]
    },
    {
     "data": {
      "application/vnd.jupyter.widget-view+json": {
       "model_id": "23ea88f3ca654bc5a48bfac00ee396cd",
       "version_major": 2,
       "version_minor": 0
      },
      "text/plain": [
       "W2021NDVI05.tif: |                                                    | 0.00/1.43G (raw) [  0.0%] in 00:00 (et…"
      ]
     },
     "metadata": {},
     "output_type": "display_data"
    },
    {
     "name": "stdout",
     "output_type": "stream",
     "text": [
      "Downloading 6/36: E:/predictNEE_VAR/2021/NDVI250m\\W2021NDVI06.tif\n"
     ]
    },
    {
     "name": "stderr",
     "output_type": "stream",
     "text": [
      "Consider adjusting `region`, `scale` and/or `dtype` to reduce the W2021NDVI06.tif download size (raw: 1.43 GB).\n"
     ]
    },
    {
     "data": {
      "application/vnd.jupyter.widget-view+json": {
       "model_id": "ad9665cb84b74173994c691e7434dd7c",
       "version_major": 2,
       "version_minor": 0
      },
      "text/plain": [
       "W2021NDVI06.tif: |                                                    | 0.00/1.43G (raw) [  0.0%] in 00:00 (et…"
      ]
     },
     "metadata": {},
     "output_type": "display_data"
    },
    {
     "name": "stdout",
     "output_type": "stream",
     "text": [
      "Downloading 7/36: E:/predictNEE_VAR/2021/NDVI250m\\W2021NDVI07.tif\n"
     ]
    },
    {
     "name": "stderr",
     "output_type": "stream",
     "text": [
      "Consider adjusting `region`, `scale` and/or `dtype` to reduce the W2021NDVI07.tif download size (raw: 1.43 GB).\n"
     ]
    },
    {
     "data": {
      "application/vnd.jupyter.widget-view+json": {
       "model_id": "9f916a42bffa462d99d751e910808b00",
       "version_major": 2,
       "version_minor": 0
      },
      "text/plain": [
       "W2021NDVI07.tif: |                                                    | 0.00/1.43G (raw) [  0.0%] in 00:00 (et…"
      ]
     },
     "metadata": {},
     "output_type": "display_data"
    },
    {
     "name": "stdout",
     "output_type": "stream",
     "text": [
      "Downloading 8/36: E:/predictNEE_VAR/2021/NDVI250m\\W2021NDVI08.tif\n"
     ]
    },
    {
     "name": "stderr",
     "output_type": "stream",
     "text": [
      "Consider adjusting `region`, `scale` and/or `dtype` to reduce the W2021NDVI08.tif download size (raw: 1.43 GB).\n"
     ]
    },
    {
     "data": {
      "application/vnd.jupyter.widget-view+json": {
       "model_id": "265c5b601b784a4da46b13069ecd6feb",
       "version_major": 2,
       "version_minor": 0
      },
      "text/plain": [
       "W2021NDVI08.tif: |                                                    | 0.00/1.43G (raw) [  0.0%] in 00:00 (et…"
      ]
     },
     "metadata": {},
     "output_type": "display_data"
    },
    {
     "name": "stdout",
     "output_type": "stream",
     "text": [
      "Downloading 9/36: E:/predictNEE_VAR/2021/NDVI250m\\W2021NDVI09.tif\n"
     ]
    },
    {
     "name": "stderr",
     "output_type": "stream",
     "text": [
      "Consider adjusting `region`, `scale` and/or `dtype` to reduce the W2021NDVI09.tif download size (raw: 1.43 GB).\n"
     ]
    },
    {
     "data": {
      "application/vnd.jupyter.widget-view+json": {
       "model_id": "79f5bd5d8a674a658dffda57f8377bac",
       "version_major": 2,
       "version_minor": 0
      },
      "text/plain": [
       "W2021NDVI09.tif: |                                                    | 0.00/1.43G (raw) [  0.0%] in 00:00 (et…"
      ]
     },
     "metadata": {},
     "output_type": "display_data"
    },
    {
     "name": "stdout",
     "output_type": "stream",
     "text": [
      "Downloading 10/36: E:/predictNEE_VAR/2021/NDVI250m\\W2021NDVI10.tif\n"
     ]
    },
    {
     "name": "stderr",
     "output_type": "stream",
     "text": [
      "Consider adjusting `region`, `scale` and/or `dtype` to reduce the W2021NDVI10.tif download size (raw: 1.43 GB).\n"
     ]
    },
    {
     "data": {
      "application/vnd.jupyter.widget-view+json": {
       "model_id": "4bd5e7925f4a4c47866dd8bf97c22f42",
       "version_major": 2,
       "version_minor": 0
      },
      "text/plain": [
       "W2021NDVI10.tif: |                                                    | 0.00/1.43G (raw) [  0.0%] in 00:00 (et…"
      ]
     },
     "metadata": {},
     "output_type": "display_data"
    },
    {
     "name": "stdout",
     "output_type": "stream",
     "text": [
      "Downloading 11/36: E:/predictNEE_VAR/2021/NDVI250m\\W2021NDVI11.tif\n"
     ]
    },
    {
     "name": "stderr",
     "output_type": "stream",
     "text": [
      "Consider adjusting `region`, `scale` and/or `dtype` to reduce the W2021NDVI11.tif download size (raw: 1.43 GB).\n"
     ]
    },
    {
     "data": {
      "application/vnd.jupyter.widget-view+json": {
       "model_id": "4a44a2fa70914a4ea895c4a588b8d5cb",
       "version_major": 2,
       "version_minor": 0
      },
      "text/plain": [
       "W2021NDVI11.tif: |                                                    | 0.00/1.43G (raw) [  0.0%] in 00:00 (et…"
      ]
     },
     "metadata": {},
     "output_type": "display_data"
    },
    {
     "name": "stdout",
     "output_type": "stream",
     "text": [
      "Downloading 12/36: E:/predictNEE_VAR/2021/NDVI250m\\W2021NDVI12.tif\n"
     ]
    },
    {
     "name": "stderr",
     "output_type": "stream",
     "text": [
      "Consider adjusting `region`, `scale` and/or `dtype` to reduce the W2021NDVI12.tif download size (raw: 1.43 GB).\n"
     ]
    },
    {
     "data": {
      "application/vnd.jupyter.widget-view+json": {
       "model_id": "70c7f7c6246b43d6a33679513ccc66a6",
       "version_major": 2,
       "version_minor": 0
      },
      "text/plain": [
       "W2021NDVI12.tif: |                                                    | 0.00/1.43G (raw) [  0.0%] in 00:00 (et…"
      ]
     },
     "metadata": {},
     "output_type": "display_data"
    },
    {
     "name": "stdout",
     "output_type": "stream",
     "text": [
      "Downloading 13/36: E:/predictNEE_VAR/2021/NDVI250m\\W2021NDVI13.tif\n"
     ]
    },
    {
     "name": "stderr",
     "output_type": "stream",
     "text": [
      "Consider adjusting `region`, `scale` and/or `dtype` to reduce the W2021NDVI13.tif download size (raw: 1.43 GB).\n"
     ]
    },
    {
     "data": {
      "application/vnd.jupyter.widget-view+json": {
       "model_id": "0b9a74f705214e8bb920cf1da21233e9",
       "version_major": 2,
       "version_minor": 0
      },
      "text/plain": [
       "W2021NDVI13.tif: |                                                    | 0.00/1.43G (raw) [  0.0%] in 00:00 (et…"
      ]
     },
     "metadata": {},
     "output_type": "display_data"
    },
    {
     "name": "stdout",
     "output_type": "stream",
     "text": [
      "Downloading 14/36: E:/predictNEE_VAR/2021/NDVI250m\\W2021NDVI14.tif\n"
     ]
    },
    {
     "name": "stderr",
     "output_type": "stream",
     "text": [
      "Consider adjusting `region`, `scale` and/or `dtype` to reduce the W2021NDVI14.tif download size (raw: 1.43 GB).\n"
     ]
    },
    {
     "data": {
      "application/vnd.jupyter.widget-view+json": {
       "model_id": "d6ac3225e2f447c085f414b673825688",
       "version_major": 2,
       "version_minor": 0
      },
      "text/plain": [
       "W2021NDVI14.tif: |                                                    | 0.00/1.43G (raw) [  0.0%] in 00:00 (et…"
      ]
     },
     "metadata": {},
     "output_type": "display_data"
    },
    {
     "name": "stdout",
     "output_type": "stream",
     "text": [
      "Downloading 15/36: E:/predictNEE_VAR/2021/NDVI250m\\W2021NDVI15.tif\n"
     ]
    },
    {
     "name": "stderr",
     "output_type": "stream",
     "text": [
      "Consider adjusting `region`, `scale` and/or `dtype` to reduce the W2021NDVI15.tif download size (raw: 1.43 GB).\n"
     ]
    },
    {
     "data": {
      "application/vnd.jupyter.widget-view+json": {
       "model_id": "36979372212f4ea48fa4541835927f76",
       "version_major": 2,
       "version_minor": 0
      },
      "text/plain": [
       "W2021NDVI15.tif: |                                                    | 0.00/1.43G (raw) [  0.0%] in 00:00 (et…"
      ]
     },
     "metadata": {},
     "output_type": "display_data"
    },
    {
     "name": "stdout",
     "output_type": "stream",
     "text": [
      "Downloading 16/36: E:/predictNEE_VAR/2021/NDVI250m\\W2021NDVI16.tif\n"
     ]
    },
    {
     "name": "stderr",
     "output_type": "stream",
     "text": [
      "Consider adjusting `region`, `scale` and/or `dtype` to reduce the W2021NDVI16.tif download size (raw: 1.43 GB).\n"
     ]
    },
    {
     "data": {
      "application/vnd.jupyter.widget-view+json": {
       "model_id": "af56218ef18a415180f3b0cc02bf5841",
       "version_major": 2,
       "version_minor": 0
      },
      "text/plain": [
       "W2021NDVI16.tif: |                                                    | 0.00/1.43G (raw) [  0.0%] in 00:00 (et…"
      ]
     },
     "metadata": {},
     "output_type": "display_data"
    },
    {
     "name": "stdout",
     "output_type": "stream",
     "text": [
      "Downloading 17/36: E:/predictNEE_VAR/2021/NDVI250m\\W2021NDVI17.tif\n"
     ]
    },
    {
     "name": "stderr",
     "output_type": "stream",
     "text": [
      "Consider adjusting `region`, `scale` and/or `dtype` to reduce the W2021NDVI17.tif download size (raw: 1.43 GB).\n"
     ]
    },
    {
     "data": {
      "application/vnd.jupyter.widget-view+json": {
       "model_id": "82e6e37f0bc549c182054f7629f5f6e0",
       "version_major": 2,
       "version_minor": 0
      },
      "text/plain": [
       "W2021NDVI17.tif: |                                                    | 0.00/1.43G (raw) [  0.0%] in 00:00 (et…"
      ]
     },
     "metadata": {},
     "output_type": "display_data"
    },
    {
     "name": "stdout",
     "output_type": "stream",
     "text": [
      "Downloading 18/36: E:/predictNEE_VAR/2021/NDVI250m\\W2021NDVI18.tif\n"
     ]
    },
    {
     "name": "stderr",
     "output_type": "stream",
     "text": [
      "Consider adjusting `region`, `scale` and/or `dtype` to reduce the W2021NDVI18.tif download size (raw: 1.43 GB).\n"
     ]
    },
    {
     "data": {
      "application/vnd.jupyter.widget-view+json": {
       "model_id": "7aabc2d2f67942e384e6e764950396b5",
       "version_major": 2,
       "version_minor": 0
      },
      "text/plain": [
       "W2021NDVI18.tif: |                                                    | 0.00/1.43G (raw) [  0.0%] in 00:00 (et…"
      ]
     },
     "metadata": {},
     "output_type": "display_data"
    },
    {
     "name": "stdout",
     "output_type": "stream",
     "text": [
      "Downloading 19/36: E:/predictNEE_VAR/2021/NDVI250m\\W2021NDVI19.tif\n"
     ]
    },
    {
     "name": "stderr",
     "output_type": "stream",
     "text": [
      "Consider adjusting `region`, `scale` and/or `dtype` to reduce the W2021NDVI19.tif download size (raw: 1.43 GB).\n"
     ]
    },
    {
     "data": {
      "application/vnd.jupyter.widget-view+json": {
       "model_id": "8962a244eed140aa88243b78c4a20dd2",
       "version_major": 2,
       "version_minor": 0
      },
      "text/plain": [
       "W2021NDVI19.tif: |                                                    | 0.00/1.43G (raw) [  0.0%] in 00:00 (et…"
      ]
     },
     "metadata": {},
     "output_type": "display_data"
    },
    {
     "name": "stdout",
     "output_type": "stream",
     "text": [
      "Downloading 20/36: E:/predictNEE_VAR/2021/NDVI250m\\W2021NDVI20.tif\n"
     ]
    },
    {
     "name": "stderr",
     "output_type": "stream",
     "text": [
      "Consider adjusting `region`, `scale` and/or `dtype` to reduce the W2021NDVI20.tif download size (raw: 1.43 GB).\n"
     ]
    },
    {
     "data": {
      "application/vnd.jupyter.widget-view+json": {
       "model_id": "4fc284a3e0a042da96497876511f2e2f",
       "version_major": 2,
       "version_minor": 0
      },
      "text/plain": [
       "W2021NDVI20.tif: |                                                    | 0.00/1.43G (raw) [  0.0%] in 00:00 (et…"
      ]
     },
     "metadata": {},
     "output_type": "display_data"
    },
    {
     "name": "stdout",
     "output_type": "stream",
     "text": [
      "Downloading 21/36: E:/predictNEE_VAR/2021/NDVI250m\\W2021NDVI21.tif\n"
     ]
    },
    {
     "name": "stderr",
     "output_type": "stream",
     "text": [
      "Consider adjusting `region`, `scale` and/or `dtype` to reduce the W2021NDVI21.tif download size (raw: 1.43 GB).\n"
     ]
    },
    {
     "data": {
      "application/vnd.jupyter.widget-view+json": {
       "model_id": "53bd8c2d7dc846729c2441700601c015",
       "version_major": 2,
       "version_minor": 0
      },
      "text/plain": [
       "W2021NDVI21.tif: |                                                    | 0.00/1.43G (raw) [  0.0%] in 00:00 (et…"
      ]
     },
     "metadata": {},
     "output_type": "display_data"
    },
    {
     "name": "stdout",
     "output_type": "stream",
     "text": [
      "Downloading 22/36: E:/predictNEE_VAR/2021/NDVI250m\\W2021NDVI22.tif\n"
     ]
    },
    {
     "name": "stderr",
     "output_type": "stream",
     "text": [
      "Consider adjusting `region`, `scale` and/or `dtype` to reduce the W2021NDVI22.tif download size (raw: 1.43 GB).\n"
     ]
    },
    {
     "data": {
      "application/vnd.jupyter.widget-view+json": {
       "model_id": "aa1754a02911429e9ccf06781e0e3157",
       "version_major": 2,
       "version_minor": 0
      },
      "text/plain": [
       "W2021NDVI22.tif: |                                                    | 0.00/1.43G (raw) [  0.0%] in 00:00 (et…"
      ]
     },
     "metadata": {},
     "output_type": "display_data"
    },
    {
     "name": "stdout",
     "output_type": "stream",
     "text": [
      "Downloading 23/36: E:/predictNEE_VAR/2021/NDVI250m\\W2021NDVI23.tif\n"
     ]
    },
    {
     "name": "stderr",
     "output_type": "stream",
     "text": [
      "Consider adjusting `region`, `scale` and/or `dtype` to reduce the W2021NDVI23.tif download size (raw: 1.43 GB).\n"
     ]
    },
    {
     "data": {
      "application/vnd.jupyter.widget-view+json": {
       "model_id": "5446f09ed3f74f1fb6934ced89f79c20",
       "version_major": 2,
       "version_minor": 0
      },
      "text/plain": [
       "W2021NDVI23.tif: |                                                    | 0.00/1.43G (raw) [  0.0%] in 00:00 (et…"
      ]
     },
     "metadata": {},
     "output_type": "display_data"
    },
    {
     "name": "stdout",
     "output_type": "stream",
     "text": [
      "Downloading 24/36: E:/predictNEE_VAR/2021/NDVI250m\\W2021NDVI24.tif\n"
     ]
    },
    {
     "name": "stderr",
     "output_type": "stream",
     "text": [
      "Consider adjusting `region`, `scale` and/or `dtype` to reduce the W2021NDVI24.tif download size (raw: 1.43 GB).\n"
     ]
    },
    {
     "data": {
      "application/vnd.jupyter.widget-view+json": {
       "model_id": "6ef6bfb349b1412bb4e98211e47e1cb5",
       "version_major": 2,
       "version_minor": 0
      },
      "text/plain": [
       "W2021NDVI24.tif: |                                                    | 0.00/1.43G (raw) [  0.0%] in 00:00 (et…"
      ]
     },
     "metadata": {},
     "output_type": "display_data"
    },
    {
     "name": "stdout",
     "output_type": "stream",
     "text": [
      "Downloading 25/36: E:/predictNEE_VAR/2021/NDVI250m\\W2021NDVI25.tif\n"
     ]
    },
    {
     "name": "stderr",
     "output_type": "stream",
     "text": [
      "Consider adjusting `region`, `scale` and/or `dtype` to reduce the W2021NDVI25.tif download size (raw: 1.43 GB).\n"
     ]
    },
    {
     "data": {
      "application/vnd.jupyter.widget-view+json": {
       "model_id": "d3f5989921d5492e8261668eefb8902a",
       "version_major": 2,
       "version_minor": 0
      },
      "text/plain": [
       "W2021NDVI25.tif: |                                                    | 0.00/1.43G (raw) [  0.0%] in 00:00 (et…"
      ]
     },
     "metadata": {},
     "output_type": "display_data"
    },
    {
     "name": "stdout",
     "output_type": "stream",
     "text": [
      "Downloading 26/36: E:/predictNEE_VAR/2021/NDVI250m\\W2021NDVI26.tif\n"
     ]
    },
    {
     "name": "stderr",
     "output_type": "stream",
     "text": [
      "Consider adjusting `region`, `scale` and/or `dtype` to reduce the W2021NDVI26.tif download size (raw: 1.43 GB).\n"
     ]
    },
    {
     "data": {
      "application/vnd.jupyter.widget-view+json": {
       "model_id": "f1810afa7e43457ba5d0b1f4bb18d269",
       "version_major": 2,
       "version_minor": 0
      },
      "text/plain": [
       "W2021NDVI26.tif: |                                                    | 0.00/1.43G (raw) [  0.0%] in 00:00 (et…"
      ]
     },
     "metadata": {},
     "output_type": "display_data"
    },
    {
     "name": "stdout",
     "output_type": "stream",
     "text": [
      "Downloading 27/36: E:/predictNEE_VAR/2021/NDVI250m\\W2021NDVI27.tif\n"
     ]
    },
    {
     "name": "stderr",
     "output_type": "stream",
     "text": [
      "Consider adjusting `region`, `scale` and/or `dtype` to reduce the W2021NDVI27.tif download size (raw: 1.43 GB).\n"
     ]
    },
    {
     "data": {
      "application/vnd.jupyter.widget-view+json": {
       "model_id": "d3296f5f517446e5a2bedd11891f4b9b",
       "version_major": 2,
       "version_minor": 0
      },
      "text/plain": [
       "W2021NDVI27.tif: |                                                    | 0.00/1.43G (raw) [  0.0%] in 00:00 (et…"
      ]
     },
     "metadata": {},
     "output_type": "display_data"
    },
    {
     "name": "stdout",
     "output_type": "stream",
     "text": [
      "Downloading 28/36: E:/predictNEE_VAR/2021/NDVI250m\\W2021NDVI28.tif\n"
     ]
    },
    {
     "name": "stderr",
     "output_type": "stream",
     "text": [
      "Consider adjusting `region`, `scale` and/or `dtype` to reduce the W2021NDVI28.tif download size (raw: 1.43 GB).\n"
     ]
    },
    {
     "data": {
      "application/vnd.jupyter.widget-view+json": {
       "model_id": "7503db2e0d144894aa43bd627a7e0842",
       "version_major": 2,
       "version_minor": 0
      },
      "text/plain": [
       "W2021NDVI28.tif: |                                                    | 0.00/1.43G (raw) [  0.0%] in 00:00 (et…"
      ]
     },
     "metadata": {},
     "output_type": "display_data"
    },
    {
     "name": "stdout",
     "output_type": "stream",
     "text": [
      "Downloading 29/36: E:/predictNEE_VAR/2021/NDVI250m\\W2021NDVI29.tif\n"
     ]
    },
    {
     "name": "stderr",
     "output_type": "stream",
     "text": [
      "Consider adjusting `region`, `scale` and/or `dtype` to reduce the W2021NDVI29.tif download size (raw: 1.43 GB).\n"
     ]
    },
    {
     "data": {
      "application/vnd.jupyter.widget-view+json": {
       "model_id": "29d24ae4436c4cada4974b5a95ca7356",
       "version_major": 2,
       "version_minor": 0
      },
      "text/plain": [
       "W2021NDVI29.tif: |                                                    | 0.00/1.43G (raw) [  0.0%] in 00:00 (et…"
      ]
     },
     "metadata": {},
     "output_type": "display_data"
    },
    {
     "name": "stdout",
     "output_type": "stream",
     "text": [
      "Downloading 30/36: E:/predictNEE_VAR/2021/NDVI250m\\W2021NDVI30.tif\n"
     ]
    },
    {
     "name": "stderr",
     "output_type": "stream",
     "text": [
      "Consider adjusting `region`, `scale` and/or `dtype` to reduce the W2021NDVI30.tif download size (raw: 1.43 GB).\n"
     ]
    },
    {
     "data": {
      "application/vnd.jupyter.widget-view+json": {
       "model_id": "791a57467c50484097a5c33f6c86019f",
       "version_major": 2,
       "version_minor": 0
      },
      "text/plain": [
       "W2021NDVI30.tif: |                                                    | 0.00/1.43G (raw) [  0.0%] in 00:00 (et…"
      ]
     },
     "metadata": {},
     "output_type": "display_data"
    },
    {
     "name": "stdout",
     "output_type": "stream",
     "text": [
      "Downloading 31/36: E:/predictNEE_VAR/2021/NDVI250m\\W2021NDVI31.tif\n"
     ]
    },
    {
     "name": "stderr",
     "output_type": "stream",
     "text": [
      "Consider adjusting `region`, `scale` and/or `dtype` to reduce the W2021NDVI31.tif download size (raw: 1.43 GB).\n"
     ]
    },
    {
     "data": {
      "application/vnd.jupyter.widget-view+json": {
       "model_id": "227ee0ab43cc410b9d82070543d52666",
       "version_major": 2,
       "version_minor": 0
      },
      "text/plain": [
       "W2021NDVI31.tif: |                                                    | 0.00/1.43G (raw) [  0.0%] in 00:00 (et…"
      ]
     },
     "metadata": {},
     "output_type": "display_data"
    },
    {
     "name": "stdout",
     "output_type": "stream",
     "text": [
      "Downloading 32/36: E:/predictNEE_VAR/2021/NDVI250m\\W2021NDVI32.tif\n"
     ]
    },
    {
     "name": "stderr",
     "output_type": "stream",
     "text": [
      "Consider adjusting `region`, `scale` and/or `dtype` to reduce the W2021NDVI32.tif download size (raw: 1.43 GB).\n"
     ]
    },
    {
     "data": {
      "application/vnd.jupyter.widget-view+json": {
       "model_id": "7c6fe76f89074279adb71f7abcc20bf7",
       "version_major": 2,
       "version_minor": 0
      },
      "text/plain": [
       "W2021NDVI32.tif: |                                                    | 0.00/1.43G (raw) [  0.0%] in 00:00 (et…"
      ]
     },
     "metadata": {},
     "output_type": "display_data"
    },
    {
     "name": "stdout",
     "output_type": "stream",
     "text": [
      "Downloading 33/36: E:/predictNEE_VAR/2021/NDVI250m\\W2021NDVI33.tif\n"
     ]
    },
    {
     "name": "stderr",
     "output_type": "stream",
     "text": [
      "Consider adjusting `region`, `scale` and/or `dtype` to reduce the W2021NDVI33.tif download size (raw: 1.43 GB).\n"
     ]
    },
    {
     "data": {
      "application/vnd.jupyter.widget-view+json": {
       "model_id": "aa325186d7a24c34b0fd2f5de378b36e",
       "version_major": 2,
       "version_minor": 0
      },
      "text/plain": [
       "W2021NDVI33.tif: |                                                    | 0.00/1.43G (raw) [  0.0%] in 00:00 (et…"
      ]
     },
     "metadata": {},
     "output_type": "display_data"
    },
    {
     "name": "stdout",
     "output_type": "stream",
     "text": [
      "Downloading 34/36: E:/predictNEE_VAR/2021/NDVI250m\\W2021NDVI34.tif\n"
     ]
    },
    {
     "name": "stderr",
     "output_type": "stream",
     "text": [
      "Consider adjusting `region`, `scale` and/or `dtype` to reduce the W2021NDVI34.tif download size (raw: 1.43 GB).\n"
     ]
    },
    {
     "data": {
      "application/vnd.jupyter.widget-view+json": {
       "model_id": "655e6518f6c84609944ae89ef36e5d13",
       "version_major": 2,
       "version_minor": 0
      },
      "text/plain": [
       "W2021NDVI34.tif: |                                                    | 0.00/1.43G (raw) [  0.0%] in 00:00 (et…"
      ]
     },
     "metadata": {},
     "output_type": "display_data"
    },
    {
     "name": "stdout",
     "output_type": "stream",
     "text": [
      "Downloading 35/36: E:/predictNEE_VAR/2021/NDVI250m\\W2021NDVI35.tif\n"
     ]
    },
    {
     "name": "stderr",
     "output_type": "stream",
     "text": [
      "Consider adjusting `region`, `scale` and/or `dtype` to reduce the W2021NDVI35.tif download size (raw: 1.43 GB).\n"
     ]
    },
    {
     "data": {
      "application/vnd.jupyter.widget-view+json": {
       "model_id": "cb2d21d949bf4dc4a2bbeca95491f090",
       "version_major": 2,
       "version_minor": 0
      },
      "text/plain": [
       "W2021NDVI35.tif: |                                                    | 0.00/1.43G (raw) [  0.0%] in 00:00 (et…"
      ]
     },
     "metadata": {},
     "output_type": "display_data"
    },
    {
     "name": "stdout",
     "output_type": "stream",
     "text": [
      "Downloading 36/36: E:/predictNEE_VAR/2021/NDVI250m\\W2021NDVI36.tif\n"
     ]
    },
    {
     "name": "stderr",
     "output_type": "stream",
     "text": [
      "Consider adjusting `region`, `scale` and/or `dtype` to reduce the W2021NDVI36.tif download size (raw: 1.43 GB).\n"
     ]
    },
    {
     "data": {
      "application/vnd.jupyter.widget-view+json": {
       "model_id": "d6f2897e02d844f487122f1043f775f8",
       "version_major": 2,
       "version_minor": 0
      },
      "text/plain": [
       "W2021NDVI36.tif: |                                                    | 0.00/1.43G (raw) [  0.0%] in 00:00 (et…"
      ]
     },
     "metadata": {},
     "output_type": "display_data"
    }
   ],
   "source": [
    "image = ee.Image(images.get(20)) #2021\n",
    "dir_name = \"E:/predictNEE_VAR/2021/NDVI250m\"\n",
    "geemap.download_ee_image_tiles(image, fishnet, dir_name, prefix=\"W2021NDVI\", crs='EPSG:4326', scale=250)"
   ]
  },
  {
   "cell_type": "code",
   "execution_count": null,
   "id": "f03af780-d5f0-4407-a5f6-5d0c63482d2c",
   "metadata": {},
   "outputs": [],
   "source": []
  }
 ],
 "metadata": {
  "kernelspec": {
   "display_name": "Python 3 (ipykernel)",
   "language": "python",
   "name": "python3"
  },
  "language_info": {
   "codemirror_mode": {
    "name": "ipython",
    "version": 3
   },
   "file_extension": ".py",
   "mimetype": "text/x-python",
   "name": "python",
   "nbconvert_exporter": "python",
   "pygments_lexer": "ipython3",
   "version": "3.9.12"
  }
 },
 "nbformat": 4,
 "nbformat_minor": 5
}
